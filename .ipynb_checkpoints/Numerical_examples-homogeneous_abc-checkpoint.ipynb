{
 "cells": [
  {
   "cell_type": "code",
   "execution_count": 1,
   "metadata": {
    "scrolled": true
   },
   "outputs": [],
   "source": [
    "from math import pi\n",
    "import numpy as np\n",
    "from collections import OrderedDict\n",
    "\n",
    "import matplotlib.pyplot as plt\n",
    "import matplotlib.colors as pcl\n",
    "import matplotlib.cm as cm\n",
    "from mpl_toolkits.mplot3d import Axes3D\n",
    "\n",
    "import time\n",
    "\n",
    "from LRvismod3d import *\n",
    "from basicFun import readparm, un_zip\n",
    "\n",
    "from urllib.request import urlretrieve"
   ]
  },
  {
   "cell_type": "markdown",
   "metadata": {},
   "source": [
    "# Homogeneous example: ABCs test"
   ]
  },
  {
   "cell_type": "code",
   "execution_count": 2,
   "metadata": {},
   "outputs": [
    {
     "name": "stdout",
     "output_type": "stream",
     "text": [
      "Tested angles: [ 0 25 50 75]\n",
      "Distance of corresponding receivers along y direction: [100 118 147 249]\n"
     ]
    }
   ],
   "source": [
    "offset_xs = 40 # x distance of the source\n",
    "offset_ys = 100 # y distance of the source\n",
    "offset_zs = 40 # depth of the source\n",
    "theta = np.array([0,25,50,75]) # tested incident angles of outgoing waves\n",
    "offset_yr = offset_ys+np.array(np.tan(theta/180*pi)*40,dtype=np.int16) # calculated y offset\n",
    "print(f'Tested angles: {theta}')\n",
    "print(f'Distance of corresponding receivers along y direction: {offset_yr}')"
   ]
  },
  {
   "cell_type": "code",
   "execution_count": 3,
   "metadata": {},
   "outputs": [],
   "source": [
    "# homogeneous model information dropbox links\n",
    "url0 = 'https://www.dropbox.com/sh/d6dvgfyb5uovucc/AAAQxRE11cclZIKgjN0cWI8Sa?dl=1'\n",
    "url1 = 'https://www.dropbox.com/sh/4t2w6qqsvbweh9y/AAApwV-FmKKR2jrXQgfdQsjba?dl=1'"
   ]
  },
  {
   "cell_type": "code",
   "execution_count": 4,
   "metadata": {},
   "outputs": [],
   "source": [
    "# define a specific 3-D snapshot display function\n",
    "def show3Dnew(md, xyz, xyzi, clim):\n",
    "    \n",
    "    # slice given index image along each dimension\n",
    "    mx = md[xyzi[0],:,:].transpose()\n",
    "    my = md[:,xyzi[1],:].transpose()\n",
    "    mz = md[:,:,xyzi[2]].transpose()\n",
    "    cN = pcl.Normalize(vmin=clim[0], vmax=clim[1])\n",
    "    rg = [clim[0],clim[1]-clim[0]]\n",
    "    \n",
    "    # plot the model\n",
    "    fig = plt.figure(figsize = (15,5))\n",
    "    ax = fig.gca(projection='3d')\n",
    "    \n",
    "    # plot the indicator line\n",
    "    xi = xyz[0][xyzi[0]]\n",
    "    yi = xyz[1][xyzi[1]]\n",
    "    zi = xyz[2][xyzi[2]]\n",
    "    ax.plot([xi,xi],[xyz[1][0],xyz[1][0]],[xyz[2][0],xyz[2][-1]],'r-',linewidth=2,zorder=10)\n",
    "    ax.plot([xi,xi],[xyz[1][0],xyz[1][-1]],[xyz[2][0],xyz[2][0]],'r-',linewidth=2,zorder=10)\n",
    "    ax.plot([xyz[0][0],xyz[0][0]],[yi,yi],[xyz[2][0],xyz[2][-1]],'r-',linewidth=2,zorder=10)\n",
    "    ax.plot([xyz[0][0],xyz[0][-1]],[yi,yi],[xyz[2][0],xyz[2][0]],'r-',linewidth=2,zorder=10)\n",
    "    ax.plot([xyz[0][0],xyz[0][-1]],[xyz[2][0],xyz[2][0]],[zi,zi],'r-',linewidth=2,zorder=10)\n",
    "    ax.plot([xyz[0][0],xyz[0][0]],[xyz[1][0],xyz[1][-1]],[zi,zi],'r-',linewidth=2,zorder=10)\n",
    "    \n",
    "    # plot the three surfaces\n",
    "    ax = slice_show(ax, mz, xyz, 0, rg=rg)\n",
    "    ax = slice_show(ax, mx, xyz, 1, rg=rg)\n",
    "    ax = slice_show(ax, my, xyz, 2, rg=rg)\n",
    "    \n",
    "    # set the axes\n",
    "    xtick = np.linspace(xyz[0][0],xyz[0][-1],3)\n",
    "    ytick = np.linspace(xyz[1][0],xyz[1][-1],5)\n",
    "    ztick = np.linspace(xyz[2][0],xyz[2][-1],3)\n",
    "    ax.set_xticks(xtick)\n",
    "    ax.set_xticklabels([f'{int(i)}' for i in xtick],fontsize=12)\n",
    "    ax.set_yticks(ytick)\n",
    "    ax.set_yticklabels([f'{int(i)}' for i in ytick],fontsize=12)\n",
    "    ax.set_zticks(ztick)\n",
    "    ax.set_zticklabels([f'{int(i)}' for i in ztick],fontsize=12)\n",
    "    ax.invert_zaxis()\n",
    "    ax.invert_xaxis()\n",
    "    ax.view_init(elev=30,azim=-15)\n",
    "    \n",
    "    # set the labels\n",
    "    ax.text(100, -2100, 1600, 'x (m)', (1,-0.8,0), fontsize=15)\n",
    "    ax.text(-900, 1900, 1600, 'y (m)', (-0.08,1,0), fontsize=15)\n",
    "    ax.text(0, 7300, 1200, 'z (m)', (0,0,1), fontsize=15)\n",
    "    \n",
    "    \n",
    "    # colorbar\n",
    "    cb = fig.colorbar(cm.ScalarMappable(norm=cN, cmap='bwr'))\n",
    "    ctick = np.linspace(clim[0],clim[1],5)\n",
    "    cb.set_ticks(ctick)\n",
    "    cb.set_ticklabels([f'{i*1e3:.1f}' for i in ctick])\n",
    "    cb.ax.tick_params(labelsize=15)\n",
    "    \n",
    "    plt.show()\n",
    "\n",
    "    return fig, ax\n",
    "\n",
    "def slice_show(ax, ms, xyz, od, rg=None, offset=0, rcstride=(1,1)):\n",
    "    if rg is None:\n",
    "        shift = np.amin(ms)\n",
    "        normalizer = np.amax(ms)-shift\n",
    "    else:\n",
    "        shift = rg[0]\n",
    "        normalizer = rg[1]\n",
    "    if normalizer == 0:\n",
    "        msN = np.zeros_like(ms)+0.5\n",
    "    else:\n",
    "        msN = (ms-shift)/normalizer\n",
    "    colors = plt.cm.bwr(msN)\n",
    "    if od == 0:\n",
    "        [X,Y] = np.meshgrid(xyz[0],xyz[1])\n",
    "        Z = np.zeros_like(X)+xyz[2][0]+offset\n",
    "    if od == 1:\n",
    "        [Y,Z] = np.meshgrid(xyz[1],xyz[2])\n",
    "        X = np.zeros_like(Y)+xyz[0][0]+offset\n",
    "    if od == 2:\n",
    "        [X,Z] = np.meshgrid(xyz[0],xyz[2])\n",
    "        Y = np.zeros_like(X)+xyz[1][0]+offset\n",
    "    surf = ax.plot_surface(X, Y, Z, \n",
    "                           facecolors=colors, rstride=rcstride[0], cstride=rcstride[1], zorder=1)\n",
    "    \n",
    "    return ax"
   ]
  },
  {
   "cell_type": "code",
   "execution_count": 5,
   "metadata": {},
   "outputs": [],
   "source": [
    "# define pathes\n",
    "inpath = './resources/hme_abc'\n",
    "outpath = './outputs/AGUpaper'"
   ]
  },
  {
   "cell_type": "code",
   "execution_count": 6,
   "metadata": {},
   "outputs": [
    {
     "ename": "KeyboardInterrupt",
     "evalue": "",
     "output_type": "error",
     "traceback": [
      "\u001b[0;31m---------------------------------------------------------------------------\u001b[0m",
      "\u001b[0;31mKeyboardInterrupt\u001b[0m                         Traceback (most recent call last)",
      "\u001b[0;32m<ipython-input-6-d6fb3378d036>\u001b[0m in \u001b[0;36m<module>\u001b[0;34m\u001b[0m\n\u001b[1;32m      1\u001b[0m \u001b[0;31m# retrive the models\u001b[0m\u001b[0;34m\u001b[0m\u001b[0;34m\u001b[0m\u001b[0;34m\u001b[0m\u001b[0m\n\u001b[1;32m      2\u001b[0m \u001b[0murlretrieve\u001b[0m\u001b[0;34m(\u001b[0m\u001b[0murl0\u001b[0m\u001b[0;34m,\u001b[0m \u001b[0;34m'./resources/hme_abc.zip'\u001b[0m\u001b[0;34m)\u001b[0m\u001b[0;34m\u001b[0m\u001b[0;34m\u001b[0m\u001b[0m\n\u001b[0;32m----> 3\u001b[0;31m \u001b[0murlretrieve\u001b[0m\u001b[0;34m(\u001b[0m\u001b[0murl1\u001b[0m\u001b[0;34m,\u001b[0m \u001b[0;34m'./resources/hme_abc_expand.zip'\u001b[0m\u001b[0;34m)\u001b[0m\u001b[0;34m\u001b[0m\u001b[0;34m\u001b[0m\u001b[0m\n\u001b[0m\u001b[1;32m      4\u001b[0m \u001b[0mun_zip\u001b[0m\u001b[0;34m(\u001b[0m\u001b[0;34m'./resources/hme_abc.zip'\u001b[0m\u001b[0;34m,\u001b[0m\u001b[0minpath\u001b[0m\u001b[0;34m)\u001b[0m\u001b[0;34m\u001b[0m\u001b[0;34m\u001b[0m\u001b[0m\n\u001b[1;32m      5\u001b[0m \u001b[0mun_zip\u001b[0m\u001b[0;34m(\u001b[0m\u001b[0;34m'./resources/hme_abc_expand.zip'\u001b[0m\u001b[0;34m,\u001b[0m\u001b[0minpath\u001b[0m\u001b[0;34m)\u001b[0m\u001b[0;34m\u001b[0m\u001b[0;34m\u001b[0m\u001b[0m\n",
      "\u001b[0;32m/data/libei/anaconda3/lib/python3.7/urllib/request.py\u001b[0m in \u001b[0;36murlretrieve\u001b[0;34m(url, filename, reporthook, data)\u001b[0m\n\u001b[1;32m    274\u001b[0m \u001b[0;34m\u001b[0m\u001b[0m\n\u001b[1;32m    275\u001b[0m             \u001b[0;32mwhile\u001b[0m \u001b[0;32mTrue\u001b[0m\u001b[0;34m:\u001b[0m\u001b[0;34m\u001b[0m\u001b[0;34m\u001b[0m\u001b[0m\n\u001b[0;32m--> 276\u001b[0;31m                 \u001b[0mblock\u001b[0m \u001b[0;34m=\u001b[0m \u001b[0mfp\u001b[0m\u001b[0;34m.\u001b[0m\u001b[0mread\u001b[0m\u001b[0;34m(\u001b[0m\u001b[0mbs\u001b[0m\u001b[0;34m)\u001b[0m\u001b[0;34m\u001b[0m\u001b[0;34m\u001b[0m\u001b[0m\n\u001b[0m\u001b[1;32m    277\u001b[0m                 \u001b[0;32mif\u001b[0m \u001b[0;32mnot\u001b[0m \u001b[0mblock\u001b[0m\u001b[0;34m:\u001b[0m\u001b[0;34m\u001b[0m\u001b[0;34m\u001b[0m\u001b[0m\n\u001b[1;32m    278\u001b[0m                     \u001b[0;32mbreak\u001b[0m\u001b[0;34m\u001b[0m\u001b[0;34m\u001b[0m\u001b[0m\n",
      "\u001b[0;32m/data/libei/anaconda3/lib/python3.7/http/client.py\u001b[0m in \u001b[0;36mread\u001b[0;34m(self, amt)\u001b[0m\n\u001b[1;32m    455\u001b[0m             \u001b[0;31m# Amount is given, implement using readinto\u001b[0m\u001b[0;34m\u001b[0m\u001b[0;34m\u001b[0m\u001b[0;34m\u001b[0m\u001b[0m\n\u001b[1;32m    456\u001b[0m             \u001b[0mb\u001b[0m \u001b[0;34m=\u001b[0m \u001b[0mbytearray\u001b[0m\u001b[0;34m(\u001b[0m\u001b[0mamt\u001b[0m\u001b[0;34m)\u001b[0m\u001b[0;34m\u001b[0m\u001b[0;34m\u001b[0m\u001b[0m\n\u001b[0;32m--> 457\u001b[0;31m             \u001b[0mn\u001b[0m \u001b[0;34m=\u001b[0m \u001b[0mself\u001b[0m\u001b[0;34m.\u001b[0m\u001b[0mreadinto\u001b[0m\u001b[0;34m(\u001b[0m\u001b[0mb\u001b[0m\u001b[0;34m)\u001b[0m\u001b[0;34m\u001b[0m\u001b[0;34m\u001b[0m\u001b[0m\n\u001b[0m\u001b[1;32m    458\u001b[0m             \u001b[0;32mreturn\u001b[0m \u001b[0mmemoryview\u001b[0m\u001b[0;34m(\u001b[0m\u001b[0mb\u001b[0m\u001b[0;34m)\u001b[0m\u001b[0;34m[\u001b[0m\u001b[0;34m:\u001b[0m\u001b[0mn\u001b[0m\u001b[0;34m]\u001b[0m\u001b[0;34m.\u001b[0m\u001b[0mtobytes\u001b[0m\u001b[0;34m(\u001b[0m\u001b[0;34m)\u001b[0m\u001b[0;34m\u001b[0m\u001b[0;34m\u001b[0m\u001b[0m\n\u001b[1;32m    459\u001b[0m         \u001b[0;32melse\u001b[0m\u001b[0;34m:\u001b[0m\u001b[0;34m\u001b[0m\u001b[0;34m\u001b[0m\u001b[0m\n",
      "\u001b[0;32m/data/libei/anaconda3/lib/python3.7/http/client.py\u001b[0m in \u001b[0;36mreadinto\u001b[0;34m(self, b)\u001b[0m\n\u001b[1;32m    499\u001b[0m         \u001b[0;31m# connection, and the user is reading more bytes than will be provided\u001b[0m\u001b[0;34m\u001b[0m\u001b[0;34m\u001b[0m\u001b[0;34m\u001b[0m\u001b[0m\n\u001b[1;32m    500\u001b[0m         \u001b[0;31m# (for example, reading in 1k chunks)\u001b[0m\u001b[0;34m\u001b[0m\u001b[0;34m\u001b[0m\u001b[0;34m\u001b[0m\u001b[0m\n\u001b[0;32m--> 501\u001b[0;31m         \u001b[0mn\u001b[0m \u001b[0;34m=\u001b[0m \u001b[0mself\u001b[0m\u001b[0;34m.\u001b[0m\u001b[0mfp\u001b[0m\u001b[0;34m.\u001b[0m\u001b[0mreadinto\u001b[0m\u001b[0;34m(\u001b[0m\u001b[0mb\u001b[0m\u001b[0;34m)\u001b[0m\u001b[0;34m\u001b[0m\u001b[0;34m\u001b[0m\u001b[0m\n\u001b[0m\u001b[1;32m    502\u001b[0m         \u001b[0;32mif\u001b[0m \u001b[0;32mnot\u001b[0m \u001b[0mn\u001b[0m \u001b[0;32mand\u001b[0m \u001b[0mb\u001b[0m\u001b[0;34m:\u001b[0m\u001b[0;34m\u001b[0m\u001b[0;34m\u001b[0m\u001b[0m\n\u001b[1;32m    503\u001b[0m             \u001b[0;31m# Ideally, we would raise IncompleteRead if the content-length\u001b[0m\u001b[0;34m\u001b[0m\u001b[0;34m\u001b[0m\u001b[0;34m\u001b[0m\u001b[0m\n",
      "\u001b[0;32m/data/libei/anaconda3/lib/python3.7/socket.py\u001b[0m in \u001b[0;36mreadinto\u001b[0;34m(self, b)\u001b[0m\n\u001b[1;32m    587\u001b[0m         \u001b[0;32mwhile\u001b[0m \u001b[0;32mTrue\u001b[0m\u001b[0;34m:\u001b[0m\u001b[0;34m\u001b[0m\u001b[0;34m\u001b[0m\u001b[0m\n\u001b[1;32m    588\u001b[0m             \u001b[0;32mtry\u001b[0m\u001b[0;34m:\u001b[0m\u001b[0;34m\u001b[0m\u001b[0;34m\u001b[0m\u001b[0m\n\u001b[0;32m--> 589\u001b[0;31m                 \u001b[0;32mreturn\u001b[0m \u001b[0mself\u001b[0m\u001b[0;34m.\u001b[0m\u001b[0m_sock\u001b[0m\u001b[0;34m.\u001b[0m\u001b[0mrecv_into\u001b[0m\u001b[0;34m(\u001b[0m\u001b[0mb\u001b[0m\u001b[0;34m)\u001b[0m\u001b[0;34m\u001b[0m\u001b[0;34m\u001b[0m\u001b[0m\n\u001b[0m\u001b[1;32m    590\u001b[0m             \u001b[0;32mexcept\u001b[0m \u001b[0mtimeout\u001b[0m\u001b[0;34m:\u001b[0m\u001b[0;34m\u001b[0m\u001b[0;34m\u001b[0m\u001b[0m\n\u001b[1;32m    591\u001b[0m                 \u001b[0mself\u001b[0m\u001b[0;34m.\u001b[0m\u001b[0m_timeout_occurred\u001b[0m \u001b[0;34m=\u001b[0m \u001b[0;32mTrue\u001b[0m\u001b[0;34m\u001b[0m\u001b[0;34m\u001b[0m\u001b[0m\n",
      "\u001b[0;32m/data/libei/anaconda3/lib/python3.7/ssl.py\u001b[0m in \u001b[0;36mrecv_into\u001b[0;34m(self, buffer, nbytes, flags)\u001b[0m\n\u001b[1;32m   1069\u001b[0m                   \u001b[0;34m\"non-zero flags not allowed in calls to recv_into() on %s\"\u001b[0m \u001b[0;34m%\u001b[0m\u001b[0;34m\u001b[0m\u001b[0;34m\u001b[0m\u001b[0m\n\u001b[1;32m   1070\u001b[0m                   self.__class__)\n\u001b[0;32m-> 1071\u001b[0;31m             \u001b[0;32mreturn\u001b[0m \u001b[0mself\u001b[0m\u001b[0;34m.\u001b[0m\u001b[0mread\u001b[0m\u001b[0;34m(\u001b[0m\u001b[0mnbytes\u001b[0m\u001b[0;34m,\u001b[0m \u001b[0mbuffer\u001b[0m\u001b[0;34m)\u001b[0m\u001b[0;34m\u001b[0m\u001b[0;34m\u001b[0m\u001b[0m\n\u001b[0m\u001b[1;32m   1072\u001b[0m         \u001b[0;32melse\u001b[0m\u001b[0;34m:\u001b[0m\u001b[0;34m\u001b[0m\u001b[0;34m\u001b[0m\u001b[0m\n\u001b[1;32m   1073\u001b[0m             \u001b[0;32mreturn\u001b[0m \u001b[0msuper\u001b[0m\u001b[0;34m(\u001b[0m\u001b[0;34m)\u001b[0m\u001b[0;34m.\u001b[0m\u001b[0mrecv_into\u001b[0m\u001b[0;34m(\u001b[0m\u001b[0mbuffer\u001b[0m\u001b[0;34m,\u001b[0m \u001b[0mnbytes\u001b[0m\u001b[0;34m,\u001b[0m \u001b[0mflags\u001b[0m\u001b[0;34m)\u001b[0m\u001b[0;34m\u001b[0m\u001b[0;34m\u001b[0m\u001b[0m\n",
      "\u001b[0;32m/data/libei/anaconda3/lib/python3.7/ssl.py\u001b[0m in \u001b[0;36mread\u001b[0;34m(self, len, buffer)\u001b[0m\n\u001b[1;32m    927\u001b[0m         \u001b[0;32mtry\u001b[0m\u001b[0;34m:\u001b[0m\u001b[0;34m\u001b[0m\u001b[0;34m\u001b[0m\u001b[0m\n\u001b[1;32m    928\u001b[0m             \u001b[0;32mif\u001b[0m \u001b[0mbuffer\u001b[0m \u001b[0;32mis\u001b[0m \u001b[0;32mnot\u001b[0m \u001b[0;32mNone\u001b[0m\u001b[0;34m:\u001b[0m\u001b[0;34m\u001b[0m\u001b[0;34m\u001b[0m\u001b[0m\n\u001b[0;32m--> 929\u001b[0;31m                 \u001b[0;32mreturn\u001b[0m \u001b[0mself\u001b[0m\u001b[0;34m.\u001b[0m\u001b[0m_sslobj\u001b[0m\u001b[0;34m.\u001b[0m\u001b[0mread\u001b[0m\u001b[0;34m(\u001b[0m\u001b[0mlen\u001b[0m\u001b[0;34m,\u001b[0m \u001b[0mbuffer\u001b[0m\u001b[0;34m)\u001b[0m\u001b[0;34m\u001b[0m\u001b[0;34m\u001b[0m\u001b[0m\n\u001b[0m\u001b[1;32m    930\u001b[0m             \u001b[0;32melse\u001b[0m\u001b[0;34m:\u001b[0m\u001b[0;34m\u001b[0m\u001b[0;34m\u001b[0m\u001b[0m\n\u001b[1;32m    931\u001b[0m                 \u001b[0;32mreturn\u001b[0m \u001b[0mself\u001b[0m\u001b[0;34m.\u001b[0m\u001b[0m_sslobj\u001b[0m\u001b[0;34m.\u001b[0m\u001b[0mread\u001b[0m\u001b[0;34m(\u001b[0m\u001b[0mlen\u001b[0m\u001b[0;34m)\u001b[0m\u001b[0;34m\u001b[0m\u001b[0;34m\u001b[0m\u001b[0m\n",
      "\u001b[0;31mKeyboardInterrupt\u001b[0m: "
     ]
    }
   ],
   "source": [
    "# retrieve the model information from dropbox\n",
    "urlretrieve(url0, './resources/hme_abc.zip')\n",
    "un_zip('./resources/hme_abc.zip',inpath)"
   ]
  },
  {
   "cell_type": "code",
   "execution_count": null,
   "metadata": {},
   "outputs": [],
   "source": [
    "xxxx"
   ]
  },
  {
   "cell_type": "code",
   "execution_count": null,
   "metadata": {},
   "outputs": [],
   "source": [
    "r'''V = np.zeros((81,301,81))+2000\n",
    "V = np.array(np.reshape(V,(81,301,81),'F'),dtype = '>f4')\n",
    "V.tofile(f'{inpath}/v.dat')'''"
   ]
  },
  {
   "cell_type": "code",
   "execution_count": null,
   "metadata": {},
   "outputs": [],
   "source": [
    "r'''Q = np.zeros((81,301,81))+100\n",
    "Q = np.array(np.reshape(Q,(81,301,81),'F'),dtype = '>f4')\n",
    "Q.tofile(f'{inpath}/Q.dat')'''"
   ]
  },
  {
   "cell_type": "code",
   "execution_count": null,
   "metadata": {
    "scrolled": true
   },
   "outputs": [],
   "source": [
    "# readin basic parm\n",
    "basic_parm = readparm(inpath)"
   ]
  },
  {
   "cell_type": "code",
   "execution_count": null,
   "metadata": {},
   "outputs": [],
   "source": [
    "# create source class\n",
    "nt = basic_parm[1]\n",
    "dt = basic_parm[0]\n",
    "fs = 15 # dominant frequency of Ricker wavelet\n",
    "t0 = -1.5/fs\n",
    "sl = round(5/fs/dt)\n",
    "s = source(fs, dt, t0, sl, order=2, tol=1e-2)\n",
    "s.ws = np.linspace(5.0,50.0,10)*2*pi # define the source valid frequency samples"
   ]
  },
  {
   "cell_type": "code",
   "execution_count": null,
   "metadata": {},
   "outputs": [],
   "source": [
    "v = model('velocity.h', inpath, f0=basic_parm[2])\n",
    "Q = model('Qaulity_factor.h', inpath)"
   ]
  },
  {
   "cell_type": "code",
   "execution_count": null,
   "metadata": {},
   "outputs": [],
   "source": [
    "# create source and reciever indices\n",
    "def createids():\n",
    "    indx = [offset_xs]\n",
    "    indy = [offset_ys]\n",
    "    indz = [offset_zs]\n",
    "    tmp = OrderedDict(x=indx,\n",
    "                       y=indy,\n",
    "                       z=indz)\n",
    "    ids = np.array([v for v in product(*tmp.values())],dtype=np.int16)\n",
    "    return ids\n",
    "\n",
    "def createidr():\n",
    "    indx = [offset_xs]\n",
    "    indy = offset_yr\n",
    "    indz = [5]\n",
    "    tmp = OrderedDict(x=indx,\n",
    "                       y=indy,\n",
    "                       z=indz)\n",
    "    idr = np.array([v for v in product(*tmp.values())],dtype=np.int16)\n",
    "    return idr  \n",
    "\n",
    "ids = createids()\n",
    "idr = createidr()"
   ]
  },
  {
   "cell_type": "code",
   "execution_count": null,
   "metadata": {},
   "outputs": [],
   "source": [
    "# test acqgeo class\n",
    "geometry = acqgeo(ids, idr)\n",
    "# display the acquisation geometry\n",
    "geometry.geometry_show(v.x,v.y,v.z,ea=(30,-45))"
   ]
  },
  {
   "cell_type": "code",
   "execution_count": null,
   "metadata": {},
   "outputs": [],
   "source": [
    "# test modeling class\n",
    "vmh = 'velocity.h'\n",
    "Qmh = 'Qaulity_factor.h'"
   ]
  },
  {
   "cell_type": "code",
   "execution_count": null,
   "metadata": {},
   "outputs": [],
   "source": [
    "# set the clim for snapshots\n",
    "# when test for computational time, let tsample=[], since the snapshot display and saving cost some time\n",
    "# when display the snapshots, let tsample = [400,800]\n",
    "tsample = [400,800]"
   ]
  },
  {
   "cell_type": "markdown",
   "metadata": {},
   "source": [
    "## (1) Natural-attenuation absorbing boundary condition $\\varepsilon=0.04$"
   ]
  },
  {
   "cell_type": "code",
   "execution_count": null,
   "metadata": {
    "scrolled": false
   },
   "outputs": [],
   "source": [
    "LRM = LRmodeling(basic_parm,s,geometry,vmh,Qmh,typ_tsc=2,abc={'naABCs':0.04},inpath=inpath,outpath=outpath)"
   ]
  },
  {
   "cell_type": "code",
   "execution_count": null,
   "metadata": {
    "scrolled": false
   },
   "outputs": [],
   "source": [
    "st = time.time()\n",
    "rec,_,_ = LRM.LRiteration(tsample=tsample,clim=None) # if test efficiency, set tsample=[]\n",
    "T = time.time()-st\n",
    "print(T)"
   ]
  },
  {
   "cell_type": "code",
   "execution_count": null,
   "metadata": {},
   "outputs": [],
   "source": [
    "rec004 = rec"
   ]
  },
  {
   "cell_type": "code",
   "execution_count": null,
   "metadata": {},
   "outputs": [],
   "source": [
    "# save the record\n",
    "fna1 = 'rec_naabc_004.dat'\n",
    "rec004.tofile(f'{outpath}/{fna1}')"
   ]
  },
  {
   "cell_type": "code",
   "execution_count": null,
   "metadata": {
    "scrolled": false
   },
   "outputs": [],
   "source": [
    "clim = np.array([-1,+1])*1e-3\n",
    "# readin the sampled snapshots\n",
    "if tsample is not None:\n",
    "    fig = []\n",
    "    for it in tsample:\n",
    "        sp = np.fromfile(f'{outpath}/snapshot_it={it}.dat',dtype=np.float32)\n",
    "        sp = np.reshape(sp,v.n)\n",
    "        print(np.amax(np.abs(sp)))\n",
    "        figt, _ = show3Dnew(sp, [v.x,v.y,v.z], ids[0], clim=clim)\n",
    "        fig.append(figt)"
   ]
  },
  {
   "cell_type": "code",
   "execution_count": null,
   "metadata": {},
   "outputs": [],
   "source": [
    "# save the snapshots\n",
    "nf = len(fig)\n",
    "fnfig = 'hme_naabc004'\n",
    "for i in range(nf):\n",
    "    fig[i].savefig(f'{outpath}/{fnfig}_{tsample[i]}.png',dpi=600)"
   ]
  },
  {
   "cell_type": "markdown",
   "metadata": {},
   "source": [
    "## (2) Natural-attenuation absorbing boundary condition $\\varepsilon=0.01$"
   ]
  },
  {
   "cell_type": "code",
   "execution_count": null,
   "metadata": {},
   "outputs": [],
   "source": [
    "LRM = LRmodeling(basic_parm,s,geometry,vmh,Qmh,typ_tsc=2,abc={'naABCs':0.01},inpath=inpath,outpath=outpath)"
   ]
  },
  {
   "cell_type": "code",
   "execution_count": null,
   "metadata": {},
   "outputs": [],
   "source": [
    "st = time.time()\n",
    "rec,fig,ax = LRM.LRiteration(tsample=tsample,clim=clim) # if test efficiency, set tsample=[]\n",
    "T = time.time()-st\n",
    "print(T)"
   ]
  },
  {
   "cell_type": "code",
   "execution_count": null,
   "metadata": {},
   "outputs": [],
   "source": [
    "rec001 = rec"
   ]
  },
  {
   "cell_type": "code",
   "execution_count": null,
   "metadata": {},
   "outputs": [],
   "source": [
    "# save the record\n",
    "fna2 = 'rec_naabc_001.dat'\n",
    "rec001.tofile(f'{outpath}/{fna2}')"
   ]
  },
  {
   "cell_type": "code",
   "execution_count": null,
   "metadata": {},
   "outputs": [],
   "source": [
    "# readin the sampled snapshots\n",
    "if tsample is not None:\n",
    "    fig = []\n",
    "    for it in tsample:\n",
    "        sp = np.fromfile(f'{outpath}/snapshot_it={it}.dat',dtype=np.float32)\n",
    "        sp = np.reshape(sp,v.n)\n",
    "        figt, _ = show3Dnew(sp, [v.x,v.y,v.z], ids[0], clim=clim)\n",
    "        fig.append(figt)"
   ]
  },
  {
   "cell_type": "code",
   "execution_count": null,
   "metadata": {},
   "outputs": [],
   "source": [
    "# save the snapshots\n",
    "nf = len(fig)\n",
    "fnfig = 'hme_naabc001'\n",
    "for i in range(nf):\n",
    "    fig[i].savefig(f'{outpath}/{fnfig}_{tsample[i]}.png',dpi=600)"
   ]
  },
  {
   "cell_type": "markdown",
   "metadata": {},
   "source": [
    "## (3) Hybrid abosrbing bundary condition ($N=20$)"
   ]
  },
  {
   "cell_type": "code",
   "execution_count": null,
   "metadata": {},
   "outputs": [],
   "source": [
    "LRM = LRmodeling(basic_parm,s,geometry,vmh,Qmh,typ_tsc=2,abc={'hABCs':20},inpath=inpath,outpath=outpath)"
   ]
  },
  {
   "cell_type": "code",
   "execution_count": null,
   "metadata": {},
   "outputs": [],
   "source": [
    "st = time.time()\n",
    "rec,fig,ax = LRM.LRiteration(tsample=tsample,clim=clim) # if test efficiency, set tsample=[]\n",
    "T = time.time()-st\n",
    "print(T)"
   ]
  },
  {
   "cell_type": "code",
   "execution_count": null,
   "metadata": {},
   "outputs": [],
   "source": [
    "rech20 = rec"
   ]
  },
  {
   "cell_type": "code",
   "execution_count": null,
   "metadata": {},
   "outputs": [],
   "source": [
    "# save the record\n",
    "fnh2 = 'rec_habc_20.dat'\n",
    "rech20.tofile(f'{outpath}/{fnh2}')"
   ]
  },
  {
   "cell_type": "code",
   "execution_count": null,
   "metadata": {},
   "outputs": [],
   "source": [
    "# readin the sampled snapshots\n",
    "if tsample is not None:\n",
    "    fig = []\n",
    "    for it in tsample:\n",
    "        sp = np.fromfile(f'{outpath}/snapshot_it={it}.dat',dtype=np.float32)\n",
    "        sp = np.reshape(sp,v.n)\n",
    "        figt, _ = show3Dnew(sp, [v.x,v.y,v.z], ids[0], clim=clim)\n",
    "        fig.append(figt)"
   ]
  },
  {
   "cell_type": "code",
   "execution_count": null,
   "metadata": {},
   "outputs": [],
   "source": [
    "# save the snapshots\n",
    "nf = len(fig)\n",
    "fnfig = 'hme_habc20'\n",
    "for i in range(nf):\n",
    "    fig[i].savefig(f'{outpath}/{fnfig}_{tsample[i]}.png',dpi=600)"
   ]
  },
  {
   "cell_type": "markdown",
   "metadata": {},
   "source": [
    "## (5) Reference solution (by expanding modeling area)"
   ]
  },
  {
   "cell_type": "code",
   "execution_count": null,
   "metadata": {},
   "outputs": [],
   "source": [
    "# test the truncated overthrust model\n",
    "inpath = './resources/hme_abc_expand'"
   ]
  },
  {
   "cell_type": "code",
   "execution_count": null,
   "metadata": {},
   "outputs": [],
   "source": [
    "# retrieve the model information from dropbox\n",
    "urlretrieve(url1, './resources/hme_abc_expand.zip')\n",
    "un_zip('./resources/hme_abc_expand.zip',inpath)"
   ]
  },
  {
   "cell_type": "code",
   "execution_count": null,
   "metadata": {},
   "outputs": [],
   "source": [
    "r'''V = np.zeros((401,401,401))+2000\n",
    "V = np.array(np.reshape(V,(401,401,401),'F'),dtype = '>f4')\n",
    "V.tofile(f'{inpath}/v.dat')'''"
   ]
  },
  {
   "cell_type": "code",
   "execution_count": null,
   "metadata": {},
   "outputs": [],
   "source": [
    "r'''Q = np.zeros((401,401,401))+100\n",
    "Q = np.array(np.reshape(Q,(401,401,401),'F'),dtype = '>f4')\n",
    "Q.tofile(f'{inpath}/Q.dat')'''"
   ]
  },
  {
   "cell_type": "code",
   "execution_count": null,
   "metadata": {},
   "outputs": [],
   "source": [
    "v = model('velocity.h', inpath, f0=basic_parm[2])\n",
    "Q = model('Qaulity_factor.h', inpath)"
   ]
  },
  {
   "cell_type": "code",
   "execution_count": null,
   "metadata": {},
   "outputs": [],
   "source": [
    "# create source and reciever indices\n",
    "def createids():\n",
    "    indx = [offset_xs+160]\n",
    "    indy = [offset_ys+100]\n",
    "    indz = [offset_zs+160]\n",
    "    tmp = OrderedDict(x=indx,\n",
    "                       y=indy,\n",
    "                       z=indz)\n",
    "    ids = np.array([v for v in product(*tmp.values())],dtype=np.int16)\n",
    "    return ids\n",
    "\n",
    "def createidr():\n",
    "    indx = [offset_xs+160]\n",
    "    indy = offset_yr+100\n",
    "    indz = [165]\n",
    "    tmp = OrderedDict(x=indx,\n",
    "                       y=indy,\n",
    "                       z=indz)\n",
    "    idr = np.array([v for v in product(*tmp.values())],dtype=np.int16)\n",
    "    return idr  \n",
    "\n",
    "ids = createids()\n",
    "idr = createidr()"
   ]
  },
  {
   "cell_type": "code",
   "execution_count": null,
   "metadata": {},
   "outputs": [],
   "source": [
    "# test acqgeo class\n",
    "geometry = acqgeo(ids, idr)\n",
    "geometry.geometry_show(v.x,v.y,v.z,ea=(30,-45))"
   ]
  },
  {
   "cell_type": "code",
   "execution_count": null,
   "metadata": {},
   "outputs": [],
   "source": [
    "LRM = LRmodeling(basic_parm,s,geometry,vmh,Qmh,typ_tsc=2,abc={'naABCs': None},inpath=inpath,outpath=outpath)"
   ]
  },
  {
   "cell_type": "code",
   "execution_count": null,
   "metadata": {},
   "outputs": [],
   "source": [
    "st = time.time()\n",
    "rec,fig,ax = LRM.LRiteration(tsample=[],clim=clim)\n",
    "T = time.time()-st\n",
    "print(T)"
   ]
  },
  {
   "cell_type": "code",
   "execution_count": null,
   "metadata": {},
   "outputs": [],
   "source": [
    "recr = rec"
   ]
  },
  {
   "cell_type": "code",
   "execution_count": null,
   "metadata": {},
   "outputs": [],
   "source": [
    "fnr = 'rec_ref.dat'\n",
    "recr.tofile(f'{outpath}/{fnr}')"
   ]
  },
  {
   "cell_type": "markdown",
   "metadata": {},
   "source": [
    "## (5) Display the waveforms"
   ]
  },
  {
   "cell_type": "code",
   "execution_count": null,
   "metadata": {},
   "outputs": [],
   "source": [
    "rech2 = np.fromfile(f'{outpath}/{fnh2}',dtype=np.float32)\n",
    "recna1 = np.fromfile(f'{outpath}/{fna1}',dtype=np.float32)\n",
    "recna2 = np.fromfile(f'{outpath}/{fna2}',dtype=np.float32)\n",
    "recr = np.fromfile(f'{outpath}/{fnr}',dtype=np.float32)"
   ]
  },
  {
   "cell_type": "code",
   "execution_count": null,
   "metadata": {},
   "outputs": [],
   "source": [
    "nr = len(idr)\n",
    "recr = np.reshape(recr, (nt,nr))\n",
    "rech2 = np.reshape(rech2, (nt,nr))\n",
    "recna1 = np.reshape(recna1, (nt,nr))\n",
    "recna2 = np.reshape(recna2, (nt,nr))"
   ]
  },
  {
   "cell_type": "code",
   "execution_count": null,
   "metadata": {
    "scrolled": false
   },
   "outputs": [],
   "source": [
    "xl = [[50,450],[50,450],[150,550],[600,1000]]\n",
    "xtk = np.zeros((4,5))\n",
    "for i in range(4):\n",
    "    xtk[i,:] = np.linspace(xl[i][0],xl[i][1],5)\n",
    "ytk = [-1.0,-0.5,0,0.5]\n",
    "# errors ytick setting\n",
    "ytk0 = np.array([-0.01,-0.005,0,0.005,0.01])\n",
    "ytk1 = ytk0\n",
    "ytk2 = ytk0\n",
    "ytk3 = np.array([-0.15,-0.075,0,0.075,0.15])\n",
    "ytke = np.stack((ytk0,ytk1,ytk2,ytk3),axis=0)\n",
    "# create the waveform comparison\n",
    "fig,ax = plt.subplots(4,2,figsize=(15,10))\n",
    "for i in range(4):\n",
    "    Nl = np.max(np.abs(recr[:,i]))\n",
    "    recri = recr[:,i]/Nl\n",
    "    # regular scale comparison\n",
    "    ax[i,0].plot(recri,c='gray',linewidth=3,label='reference')\n",
    "    ax[i,0].plot(rech2[:,i]/Nl,c='r',linewidth=1,linestyle='--',label='hABCs, N=20')\n",
    "    ax[i,0].plot(recna1[:,i]/Nl,c='g',linewidth=1,linestyle=':',label='naABCs, N=17')\n",
    "    ax[i,0].plot(recna2[:,i]/Nl,c='b',linewidth=1,linestyle=':',label='naABCs, N=33')\n",
    "    # zoom scale (errors) comparison\n",
    "    ax[i,1].plot(rech2[:,i]/Nl-recri,c='r',linewidth=1,linestyle='-',label='hABCs, N=20')\n",
    "    ax[i,1].plot(recna1[:,i]/Nl-recri,c='g',linewidth=1,linestyle='-',label='naABCs, N=17')\n",
    "    ax[i,1].plot(recna2[:,i]/Nl-recri,c='b',linewidth=1,linestyle='-',label='naABCs, N=33')\n",
    "    # adjust box weight\n",
    "    for axis in ['top','bottom','left','right']:\n",
    "        ax[i,0].spines[axis].set_linewidth(2)\n",
    "        ax[i,1].spines[axis].set_linewidth(2)\n",
    "    # adjust display x and y limits\n",
    "    ax[i,0].set_yticks(ytk)\n",
    "    ax[i,0].set_yticklabels([f'{i:.1f}' for i in ytk],fontsize=10)\n",
    "    for j in range(2):\n",
    "        ax[i,j].set_xlim(xl[i][0],xl[i][1])\n",
    "        ax[i,j].set_xticks(xtk[i,:])\n",
    "        ax[i,j].set_xticklabels([f'{int(i*2)}' for i in xtk[i,:]],fontsize=10)\n",
    "    ax[i,1].set_yticks(ytke[i,:])\n",
    "    ax[i,1].set_yticklabels([f'{i:.3f}' for i in ytke[i,:]],fontsize=10)\n",
    "# legends\n",
    "ax[0,0].legend(loc='lower right',fontsize=11)\n",
    "ax[0,1].legend(loc='lower left',fontsize=11)\n",
    "# xylabels\n",
    "ax[1,0].set_ylabel('Amplitude',fontsize=12,position=(0,0))\n",
    "ax[1,1].set_ylabel('Errors',fontsize=12,position=(0,0))\n",
    "ax[3,0].set_xlabel('Time (ms)',fontsize=12,position=(1.1,0))"
   ]
  },
  {
   "cell_type": "code",
   "execution_count": null,
   "metadata": {},
   "outputs": [],
   "source": [
    "fig.savefig('./outputs/AGUpaper/wfcomp_abcs.png',dpi=600)"
   ]
  },
  {
   "cell_type": "code",
   "execution_count": null,
   "metadata": {},
   "outputs": [],
   "source": [
    "# runtime for preparing ABCs\n",
    "runtimeabc = np.array([6.55,9.10,1.53])\n",
    "# runtime for low-rank decomposition\n",
    "runtimelrd = np.array([1.20,1.89,1.18])\n",
    "# recorded runtime without plotting snapshots\n",
    "runtimemod = np.array([9.14,18.98,58.76]) # corresponding to naABCs for vareps=0.04, 0.01 and hABCs for N=20\n",
    "# when hABCs for N=10, runtime is 31.1s"
   ]
  }
 ],
 "metadata": {
  "kernelspec": {
   "display_name": "Python 3",
   "language": "python",
   "name": "python3"
  },
  "language_info": {
   "codemirror_mode": {
    "name": "ipython",
    "version": 3
   },
   "file_extension": ".py",
   "mimetype": "text/x-python",
   "name": "python",
   "nbconvert_exporter": "python",
   "pygments_lexer": "ipython3",
   "version": "3.7.4"
  }
 },
 "nbformat": 4,
 "nbformat_minor": 2
}
