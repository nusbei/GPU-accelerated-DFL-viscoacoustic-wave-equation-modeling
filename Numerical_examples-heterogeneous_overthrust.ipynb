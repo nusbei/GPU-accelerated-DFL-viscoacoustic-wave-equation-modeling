{
 "cells": [
  {
   "cell_type": "code",
   "execution_count": null,
   "metadata": {},
   "outputs": [],
   "source": [
    "from math import pi\n",
    "import numpy as np\n",
    "from collections import OrderedDict\n",
    "\n",
    "import matplotlib.pyplot as plt\n",
    "import matplotlib.colors as pcl\n",
    "import matplotlib.cm as cm\n",
    "from mpl_toolkits.mplot3d import Axes3D\n",
    "\n",
    "import time\n",
    "import GPUtil\n",
    "\n",
    "from LRvismod3d import *\n",
    "from basicFun import readparm, un_zip\n",
    "\n",
    "from urllib.request import urlretrieve"
   ]
  },
  {
   "cell_type": "markdown",
   "metadata": {},
   "source": [
    "# Heterogeneous model test (Overthrust model)"
   ]
  },
  {
   "cell_type": "markdown",
   "metadata": {},
   "source": [
    "## Preparation of display setting, modeling parameters and models"
   ]
  },
  {
   "cell_type": "code",
   "execution_count": null,
   "metadata": {},
   "outputs": [],
   "source": [
    "# heterogeneous model information dropbox link\n",
    "url = 'https://www.dropbox.com/sh/wg8040d9y4q69du/AABY1VN3_ijIZlNLxulnDcmCa?dl=1'"
   ]
  },
  {
   "cell_type": "code",
   "execution_count": null,
   "metadata": {},
   "outputs": [],
   "source": [
    "# define a specific 3-D snapshot display function\n",
    "def show3Dnew(md, xyz, xyzi, clim, cbl=None,cs=None):\n",
    "    \n",
    "    # slice given index image along each dimension\n",
    "    mx = md[xyzi[0],:,:].transpose()\n",
    "    my = md[:,xyzi[1],:].transpose()\n",
    "    mz = md[:,:,xyzi[2]].transpose()\n",
    "    cN = pcl.Normalize(vmin=clim[0], vmax=clim[1])\n",
    "    rg = [clim[0],clim[1]-clim[0]]\n",
    "    \n",
    "    # plot the model\n",
    "    fig = plt.figure(figsize = (12,5))\n",
    "    ax = fig.gca(projection='3d')\n",
    "    \n",
    "    # plot the indicator line\n",
    "    xi = xyz[0][xyzi[0]]\n",
    "    yi = xyz[1][xyzi[1]]\n",
    "    zi = xyz[2][xyzi[2]]\n",
    "    ax.plot([xi,xi],[xyz[1][0],xyz[1][0]],[xyz[2][0],xyz[2][-1]],'r-',linewidth=2,zorder=10)\n",
    "    ax.plot([xi,xi],[xyz[1][0],xyz[1][-1]],[xyz[2][0],xyz[2][0]],'r-',linewidth=2,zorder=10)\n",
    "    ax.plot([xyz[0][0],xyz[0][0]],[yi,yi],[xyz[2][0],xyz[2][-1]],'r-',linewidth=2,zorder=10)\n",
    "    ax.plot([xyz[0][0],xyz[0][-1]],[yi,yi],[xyz[2][0],xyz[2][0]],'r-',linewidth=2,zorder=10)\n",
    "    ax.plot([xyz[0][0],xyz[0][-1]],[xyz[1][0],xyz[1][0]],[zi,zi],'r-',linewidth=2,zorder=10)\n",
    "    ax.plot([xyz[0][0],xyz[0][0]],[xyz[1][0],xyz[1][-1]],[zi,zi],'r-',linewidth=2,zorder=10)\n",
    "    \n",
    "    # plot the three surfaces\n",
    "    ax = slice_show(ax, mz, xyz, 0, rg=rg)\n",
    "    ax = slice_show(ax, mx, xyz, 1, rg=rg)\n",
    "    ax = slice_show(ax, my, xyz, 2, rg=rg)\n",
    "    \n",
    "    # set the axes\n",
    "    xtick = np.arange(0,9001,1500)\n",
    "    ytick = np.arange(0,4501,1500)\n",
    "    ztick = np.linspace(0,xyz[2][-1],4)\n",
    "    ax.set_xticks(xtick)\n",
    "    ax.set_xticklabels([f'{i/1e3}' for i in xtick],fontsize=12)\n",
    "    ax.set_yticks(ytick)\n",
    "    ax.set_yticklabels([f'{i/1e3}' for i in ytick],fontsize=12)\n",
    "    ax.set_zticks(ztick)\n",
    "    ax.set_zticklabels([f'{i/1e3}' for i in ztick],fontsize=12)\n",
    "    ax.invert_zaxis()\n",
    "    ax.invert_xaxis()\n",
    "    ax.view_init(elev=30,azim=-70)\n",
    "    \n",
    "    # set the labels\n",
    "    ax.text(4000, -2500, 2800, 'x (km)', (1,-0.15,0), fontsize=15)\n",
    "    ax.text(-2600, 500, 2800, 'y (km)', (-0.3,1,0), fontsize=15)\n",
    "    ax.text(-2000, 5000, 1800, 'z (km)', (0,0,1), fontsize=15)\n",
    "    \n",
    "    \n",
    "    # colorbar\n",
    "    if cs == None:\n",
    "        cs = 1\n",
    "    cb = fig.colorbar(cm.ScalarMappable(norm=cN, cmap='bwr'))\n",
    "    ctick = np.linspace(clim[0],clim[1],5)\n",
    "    cb.set_ticks(ctick)\n",
    "    cb.set_ticklabels([f'{int(i/cs):.1f}' for i in ctick])\n",
    "    cb.ax.tick_params(labelsize=15)\n",
    "    if cbl is not None:\n",
    "        cb.set_label(cbl,fontsize=20)\n",
    "\n",
    "    plt.show()\n",
    "\n",
    "    return fig, ax\n",
    "\n",
    "def slice_show(ax, ms, xyz, od, rg=None, offset=0, rcstride=(1,1)):\n",
    "    if rg is None:\n",
    "        shift = np.amin(ms)\n",
    "        normalizer = np.amax(ms)-shift\n",
    "    else:\n",
    "        shift = rg[0]\n",
    "        normalizer = rg[1]\n",
    "    if normalizer == 0:\n",
    "        msN = np.zeros_like(ms)+0.5\n",
    "    else:\n",
    "        msN = (ms-shift)/normalizer\n",
    "    colors = plt.cm.bwr(msN)\n",
    "    if od == 0:\n",
    "        [X,Y] = np.meshgrid(xyz[0],xyz[1])\n",
    "        Z = np.zeros_like(X)+xyz[2][0]+offset\n",
    "    if od == 1:\n",
    "        [Y,Z] = np.meshgrid(xyz[1],xyz[2])\n",
    "        X = np.zeros_like(Y)+xyz[0][0]+offset\n",
    "    if od == 2:\n",
    "        [X,Z] = np.meshgrid(xyz[0],xyz[2])\n",
    "        Y = np.zeros_like(X)+xyz[1][0]+offset\n",
    "    surf = ax.plot_surface(X, Y, Z, \n",
    "                           facecolors=colors, rstride=rcstride[0], cstride=rcstride[1], zorder=1)\n",
    "    \n",
    "    return ax"
   ]
  },
  {
   "cell_type": "code",
   "execution_count": null,
   "metadata": {},
   "outputs": [],
   "source": [
    "# define a specific 3-D data volume display function\n",
    "def show3Ddata(md, xyz, xyzi, clim):\n",
    "    \n",
    "    # slice given index image along each dimension\n",
    "    mx = md[xyzi[0],:,:].transpose()\n",
    "    my = md[:,xyzi[1],:].transpose()\n",
    "    mz = md[:,:,xyzi[2]].transpose()\n",
    "    cN = pcl.Normalize(vmin=clim[0], vmax=clim[1])\n",
    "    rg = [clim[0],clim[1]-clim[0]]\n",
    "    \n",
    "    # plot the model\n",
    "    fig = plt.figure(figsize = (12,10))\n",
    "    ax = fig.gca(projection='3d')\n",
    "    \n",
    "    # plot the indicator line\n",
    "    xi = xyz[0][xyzi[0]]\n",
    "    yi = xyz[1][xyzi[1]]\n",
    "    zi = xyz[2][xyzi[2]]\n",
    "    ax.plot([xi,xi],[xyz[1][0],xyz[1][0]],[xyz[2][0],xyz[2][-1]],'r-',linewidth=2,zorder=10)\n",
    "    ax.plot([xi,xi],[xyz[1][0],xyz[1][-1]],[xyz[2][0],xyz[2][0]],'r-',linewidth=2,zorder=10)\n",
    "    ax.plot([xyz[0][0],xyz[0][0]],[yi,yi],[xyz[2][0],xyz[2][-1]],'r-',linewidth=2,zorder=10)\n",
    "    ax.plot([xyz[0][0],xyz[0][-1]],[yi,yi],[xyz[2][0],xyz[2][0]],'r-',linewidth=2,zorder=10)\n",
    "    ax.plot([xyz[0][0],xyz[0][-1]],[xyz[1][0],xyz[1][0]],[zi,zi],'r-',linewidth=2,zorder=10)\n",
    "    ax.plot([xyz[0][0],xyz[0][0]],[xyz[1][0],xyz[1][-1]],[zi,zi],'r-',linewidth=2,zorder=10)\n",
    "    \n",
    "    # plot the three surfaces\n",
    "    ax = slice_show(ax, mz, xyz, 0, rg=rg)\n",
    "    ax = slice_show(ax, mx, xyz, 1, rg=rg)\n",
    "    ax = slice_show(ax, my, xyz, 2, rg=rg)\n",
    "    \n",
    "    # set the axes\n",
    "    xtick = np.arange(xyz[0][0],xyz[0][-1]+1,1500)\n",
    "    ytick = np.arange(xyz[1][0],xyz[1][-1]+1,1000)\n",
    "    ztick = np.linspace(xyz[2][0],xyz[2][-1],5)\n",
    "    ax.set_xticks(xtick)\n",
    "    ax.set_xticklabels([f'{i/1e3}' for i in xtick],fontsize=12)\n",
    "    ax.set_yticks(ytick)\n",
    "    ax.set_yticklabels([f'{i/1e3}' for i in ytick],fontsize=12)\n",
    "    ax.set_zticks(ztick)\n",
    "    ax.set_zticklabels([f'{i}' for i in ztick],fontsize=12)\n",
    "    ax.invert_zaxis()\n",
    "    ax.invert_xaxis()\n",
    "    ax.view_init(elev=30,azim=-60)\n",
    "    \n",
    "    # set the labels\n",
    "    ax.text(4000, -600, 2, 'x (km)', (1,-0.05,0), fontsize=15)\n",
    "    ax.text(-1200, 1400, 2, 'y (km)', (-0.3,1,0), fontsize=15)\n",
    "    ax.text(-1200, 3500, 1, 'Time (s)', (0,0,1), fontsize=15)\n",
    "\n",
    "    plt.show()\n",
    "\n",
    "    return fig, ax\n",
    "\n",
    "def slice_show(ax, ms, xyz, od, rg=None, offset=0, rcstride=(1,1)):\n",
    "    if rg is None:\n",
    "        shift = np.amin(ms)\n",
    "        normalizer = np.amax(ms)-shift\n",
    "    else:\n",
    "        shift = rg[0]\n",
    "        normalizer = rg[1]\n",
    "    if normalizer == 0:\n",
    "        msN = np.zeros_like(ms)+0.5\n",
    "    else:\n",
    "        msN = (ms-shift)/normalizer\n",
    "    colors = plt.cm.bwr(msN)\n",
    "    if od == 0:\n",
    "        [X,Y] = np.meshgrid(xyz[0],xyz[1])\n",
    "        Z = np.zeros_like(X)+xyz[2][0]+offset\n",
    "    if od == 1:\n",
    "        [Y,Z] = np.meshgrid(xyz[1],xyz[2])\n",
    "        X = np.zeros_like(Y)+xyz[0][0]+offset\n",
    "    if od == 2:\n",
    "        [X,Z] = np.meshgrid(xyz[0],xyz[2])\n",
    "        Y = np.zeros_like(X)+xyz[1][0]+offset\n",
    "    surf = ax.plot_surface(X, Y, Z, \n",
    "                           facecolors=colors, rstride=rcstride[0], cstride=rcstride[1], zorder=1, shade='interp')\n",
    "    \n",
    "    return ax"
   ]
  },
  {
   "cell_type": "code",
   "execution_count": null,
   "metadata": {},
   "outputs": [],
   "source": [
    "# define pathes\n",
    "inpath = './resources/truncOT_model'\n",
    "outpath = './outputs/paper'"
   ]
  },
  {
   "cell_type": "code",
   "execution_count": null,
   "metadata": {},
   "outputs": [],
   "source": [
    "# retrieve the model information from dropbox\n",
    "urlretrieve(url, './resources/truncOT_model.zip')\n",
    "un_zip('./resources/truncOT_model.zip',inpath)"
   ]
  },
  {
   "cell_type": "code",
   "execution_count": null,
   "metadata": {},
   "outputs": [],
   "source": [
    "# readin basic parm\n",
    "basic_parm = readparm(inpath)"
   ]
  },
  {
   "cell_type": "code",
   "execution_count": null,
   "metadata": {
    "scrolled": false
   },
   "outputs": [],
   "source": [
    "# create source class\n",
    "nt = basic_parm[1]\n",
    "dt = basic_parm[0]\n",
    "fs = 20 # dominant frequency of Ricker wavelet\n",
    "t0 = -1.5/fs\n",
    "sl = round(5/fs/dt)\n",
    "s = source(fs, dt, t0, sl, order=2, tol=1e-2)\n",
    "s.ws = np.linspace(8.0,62.0,10)*2*pi # define the source valid frequency samples"
   ]
  },
  {
   "cell_type": "code",
   "execution_count": null,
   "metadata": {},
   "outputs": [],
   "source": [
    "print(s.ws) # initial frequency samples"
   ]
  },
  {
   "cell_type": "code",
   "execution_count": null,
   "metadata": {},
   "outputs": [],
   "source": [
    "v = model('velocity.h', inpath, f0=basic_parm[2])\n",
    "Q = model('Qaulity_factor.h', inpath)"
   ]
  },
  {
   "cell_type": "code",
   "execution_count": null,
   "metadata": {},
   "outputs": [],
   "source": [
    "# build the Q model according to the velocity model\n",
    "r'''V = v.md\n",
    "Q = 3.516*(V/1000)**2.2\n",
    "Q = np.array(np.reshape(Q,(601*301*187),'F'),dtype = '>f4')\n",
    "Q.tofile(f'{inpath}/Q.dat')'''"
   ]
  },
  {
   "cell_type": "code",
   "execution_count": null,
   "metadata": {},
   "outputs": [],
   "source": [
    "fig, _ = show3Dnew(v.md,[v.x,v.y,v.z],[0,0,0],clim=[2000,6000],cbl='$v_0$ (km/s)',cs=1e3)"
   ]
  },
  {
   "cell_type": "code",
   "execution_count": null,
   "metadata": {},
   "outputs": [],
   "source": [
    "fig.savefig(f'{outpath}/hete_v.png',dpi=600)"
   ]
  },
  {
   "cell_type": "code",
   "execution_count": null,
   "metadata": {
    "scrolled": true
   },
   "outputs": [],
   "source": [
    "fig, _ = show3Dnew(Q.md,[v.x,v.y,v.z],[0,0,0],clim=[21,181],cbl='$Q$')"
   ]
  },
  {
   "cell_type": "code",
   "execution_count": null,
   "metadata": {},
   "outputs": [],
   "source": [
    "fig.savefig(f'{outpath}/hete_Q.png',dpi=600)"
   ]
  },
  {
   "cell_type": "code",
   "execution_count": null,
   "metadata": {},
   "outputs": [],
   "source": [
    "# create source and reciever indices\n",
    "def createids():\n",
    "    indx = [300]\n",
    "    indy = [150]\n",
    "    indz = [10]\n",
    "    tmp = OrderedDict(x=indx,\n",
    "                       y=indy,\n",
    "                       z=indz)\n",
    "    ids = np.array([v for v in product(*tmp.values())],dtype=np.int16)\n",
    "    return ids\n",
    "\n",
    "def createidr():\n",
    "    indx = range(50,551,2)\n",
    "    indy = range(50,251,4)\n",
    "    indz = [5]\n",
    "    tmp = OrderedDict(x=indx,\n",
    "                       y=indy,\n",
    "                       z=indz)\n",
    "    idr = np.array([v for v in product(*tmp.values())],dtype=np.int16)\n",
    "    return idr  \n",
    "\n",
    "ids = createids()\n",
    "idr = createidr()"
   ]
  },
  {
   "cell_type": "code",
   "execution_count": null,
   "metadata": {},
   "outputs": [],
   "source": [
    "# test acqgeo class\n",
    "geometry = acqgeo(ids, idr)\n",
    "# display the acquisation geometry\n",
    "_ = geometry.geometry_show(v.x,v.y,v.z,ea=(30,-45))"
   ]
  },
  {
   "cell_type": "code",
   "execution_count": null,
   "metadata": {},
   "outputs": [],
   "source": [
    "# test modeling class\n",
    "vmh = 'velocity.h'\n",
    "Qmh = 'Qaulity_factor.h'"
   ]
  },
  {
   "cell_type": "code",
   "execution_count": null,
   "metadata": {},
   "outputs": [],
   "source": [
    "# set the clim for snapshots\n",
    "# when test for computational time, let tsample=[], since the snapshot display and saving cost some time\n",
    "# when display the snapshots, let tsample = [400,800]\n",
    "tsample = [700,1400]\n",
    "clim = None#[-0.001,0.0005]\n",
    "nxline = 251\n",
    "niline = 51"
   ]
  },
  {
   "cell_type": "markdown",
   "metadata": {},
   "source": [
    "## Natural-attenuation absorbing boundary condition $\\varepsilon=0.05$"
   ]
  },
  {
   "cell_type": "code",
   "execution_count": null,
   "metadata": {
    "scrolled": false
   },
   "outputs": [],
   "source": [
    "LRM = LRmodeling(basic_parm,s,geometry,vmh,Qmh,typ_tsc=2,abc={'naABCs':0.05},inpath=inpath,outpath=outpath)"
   ]
  },
  {
   "cell_type": "code",
   "execution_count": null,
   "metadata": {},
   "outputs": [],
   "source": [
    "ztk = np.linspace(0,v.z[-1],4)\n",
    "ztk = np.insert(ztk,0,-660)\n",
    "ztk = np.append(ztk,v.z[-1]+660)\n",
    "xtk = np.linspace(0,v.x[-1],6)\n",
    "xtk = np.insert(xtk,0,-660)\n",
    "xtk = np.append(xtk,v.x[-1]+660)\n",
    "\n",
    "# display the sliced v0 and gamma\n",
    "ind = np.arange(LRM.vgme.ne[1])\n",
    "indy = ind[LRM.vgme.ye==2100][0]\n",
    "vme = LRM.vgme.vme[:,indy,:].transpose()\n",
    "gme = LRM.vgme.gme[:,indy,:].transpose()\n",
    "Qme = 1/np.tan(gme*pi)\n",
    "Vmin = np.amin(vme)\n",
    "Vmax = np.amax(vme)\n",
    "Qmin = np.amin(Qme)\n",
    "Qmax = np.amax(Qme)\n",
    "\n",
    "fig,ax = plt.subplots(1,1,figsize=(15,5))\n",
    "ax.imshow(vme,cmap='bwr',extent=[LRM.vgme.xe[0],LRM.vgme.xe[-1],LRM.vgme.ze[0],LRM.vgme.ze[-1]])\n",
    "ax.set_xticks(xtk)\n",
    "ax.set_yticks(ztk)\n",
    "ax.set_xticklabels([f'{i/1e3}' for i in xtk],fontsize=15)\n",
    "ax.set_yticklabels([f'{i/1e3}' for i in ztk],fontsize=15)\n",
    "ax.set_xlabel('x (km)',fontsize=20)\n",
    "ax.set_ylabel('z (km)',fontsize=20)\n",
    "cN = pcl.Normalize(vmin=Vmin, vmax=Vmax)\n",
    "cb = fig.colorbar(cm.ScalarMappable(norm=cN, cmap='bwr'))\n",
    "ctick = np.linspace(Vmin,Vmax,5)\n",
    "cb.set_ticks(ctick)\n",
    "cb.set_ticklabels([f'{i/1e3:.2f}' for i in ctick])\n",
    "cb.ax.tick_params(labelsize=15)\n",
    "cb.set_label('$v_0$ (km/s)',fontsize=20)"
   ]
  },
  {
   "cell_type": "code",
   "execution_count": null,
   "metadata": {},
   "outputs": [],
   "source": [
    "fig.savefig(f'{outpath}/hete_vslice.png',dpi=600)"
   ]
  },
  {
   "cell_type": "code",
   "execution_count": null,
   "metadata": {},
   "outputs": [],
   "source": [
    "fig,ax = plt.subplots(1,1,figsize=(15,5))\n",
    "ax.imshow(Qme,cmap='bwr',extent=[LRM.vgme.xe[0],LRM.vgme.xe[-1],LRM.vgme.ze[0],LRM.vgme.ze[-1]])\n",
    "ax.set_xticks(xtk)\n",
    "ax.set_yticks(ztk)\n",
    "ax.set_xticklabels([f'{i/1e3}' for i in xtk],fontsize=15)\n",
    "ax.set_yticklabels([f'{i/1e3}' for i in ztk],fontsize=15)\n",
    "ax.set_xlabel('x (km)',fontsize=20)\n",
    "ax.set_ylabel('z (km)',fontsize=20)\n",
    "cN = pcl.Normalize(vmin=Qmin, vmax=Qmax)\n",
    "cb = fig.colorbar(cm.ScalarMappable(norm=cN, cmap='bwr'))\n",
    "ctick = np.linspace(Qmin,Qmax,5)\n",
    "cb.set_ticks(ctick)\n",
    "cb.set_ticklabels([f'{int(i)}' for i in ctick])\n",
    "cb.ax.tick_params(labelsize=15)\n",
    "cb.set_label('$Q$',fontsize=20)"
   ]
  },
  {
   "cell_type": "code",
   "execution_count": null,
   "metadata": {},
   "outputs": [],
   "source": [
    "fig.savefig(f'{outpath}/hete_Qslice.png',dpi=600)"
   ]
  },
  {
   "cell_type": "code",
   "execution_count": null,
   "metadata": {},
   "outputs": [],
   "source": [
    "print('GPU usage after loading model parameters:')\n",
    "GPUtil.showUtilization()"
   ]
  },
  {
   "cell_type": "code",
   "execution_count": null,
   "metadata": {},
   "outputs": [],
   "source": [
    "st = time.time()\n",
    "rec,fig,ax = LRM.LRiteration(tsample=tsample,clim=clim) # if efficiency is tested, set tsample=[]\n",
    "T = time.time()-st\n",
    "print(f'Time marching runtime: {T} s')"
   ]
  },
  {
   "cell_type": "code",
   "execution_count": null,
   "metadata": {},
   "outputs": [],
   "source": [
    "clim1 = np.array([-0.00115,0.00115])*0.1\n",
    "clim2 = np.array([-0.0001665,0.0001665])*0.1\n",
    "# readin the sampled snapshots\n",
    "if tsample is not None:\n",
    "    fig = []\n",
    "    for it in tsample:\n",
    "        sp = np.fromfile(f'{outpath}/snapshot_it={it}.dat',dtype=np.float32)\n",
    "        sp = np.reshape(sp,v.n)\n",
    "        print(f'Snapshot maximum amplitude: {np.amax(np.abs(sp))}')\n",
    "        if it == tsample[0]:\n",
    "            clim = clim1\n",
    "        else:\n",
    "            clim = clim2\n",
    "        figt, _ = show3Dnew(sp, [v.x,v.y,v.z], ids[0], clim=clim)\n",
    "        fig.append(figt)"
   ]
  },
  {
   "cell_type": "code",
   "execution_count": null,
   "metadata": {},
   "outputs": [],
   "source": [
    "rec.tofile(f'{outpath}/hete_rec_naABC.dat')"
   ]
  },
  {
   "cell_type": "code",
   "execution_count": null,
   "metadata": {},
   "outputs": [],
   "source": [
    "rec = np.fromfile(f'{outpath}/hete_rec_naABC.dat',dtype=np.float32)\n",
    "recna = np.reshape(rec,(nt,nxline,niline))"
   ]
  },
  {
   "cell_type": "code",
   "execution_count": null,
   "metadata": {},
   "outputs": [],
   "source": [
    "# display the 3-D data volume\n",
    "rec = np.fromfile(f'{outpath}/hete_rec_naABC.dat',dtype=np.float32)\n",
    "recdisp = np.reshape(rec,(nt,nxline*niline)).transpose()\n",
    "recdisp = np.reshape(recdisp,(nxline,niline,nt))\n",
    "clim = np.array([-0.001,0.001])*0.1\n",
    "x = np.arange(50,551,2)*15\n",
    "y = np.arange(50,251,4)*15\n",
    "z = np.arange(nt)*dt\n",
    "fig, _ = show3Ddata(recdisp, [x,y,z], [126,26,nt//2], clim=clim)"
   ]
  },
  {
   "cell_type": "code",
   "execution_count": null,
   "metadata": {},
   "outputs": [],
   "source": [
    "fig.savefig(f'{outpath}/hete_rec3D_naABC.png',dpi=600)"
   ]
  },
  {
   "cell_type": "markdown",
   "metadata": {},
   "source": [
    "## Hybird absorbing boundary conditions $N=20$"
   ]
  },
  {
   "cell_type": "code",
   "execution_count": null,
   "metadata": {},
   "outputs": [],
   "source": [
    "LRM = LRmodeling(basic_parm,s,geometry,vmh,Qmh,typ_tsc=2,abc={'hABCs':20},inpath=inpath,outpath=outpath)"
   ]
  },
  {
   "cell_type": "code",
   "execution_count": null,
   "metadata": {},
   "outputs": [],
   "source": [
    "print('GPU usage after loading model parameters:')\n",
    "GPUtil.showUtilization()"
   ]
  },
  {
   "cell_type": "code",
   "execution_count": null,
   "metadata": {},
   "outputs": [],
   "source": [
    "st = time.time()\n",
    "rec,fig,ax = LRM.LRiteration(tsample=tsample,clim=clim) # if efficiency is tested, set tsample=[]\n",
    "T = time.time()-st\n",
    "print(T)"
   ]
  },
  {
   "cell_type": "code",
   "execution_count": null,
   "metadata": {},
   "outputs": [],
   "source": [
    "rec.tofile(f'{outpath}/hete_rec_hABC.dat')"
   ]
  },
  {
   "cell_type": "code",
   "execution_count": null,
   "metadata": {},
   "outputs": [],
   "source": [
    "rec = np.fromfile(f'{outpath}/hete_rec_hABC.dat',dtype=np.float32)\n",
    "rech = np.reshape(rec,(nt,251,51))"
   ]
  },
  {
   "cell_type": "code",
   "execution_count": null,
   "metadata": {},
   "outputs": [],
   "source": [
    "# display the 3-D data volume\n",
    "rec = np.fromfile(f'{outpath}/hete_rec_hABC.dat',dtype=np.float32)\n",
    "recdisp = np.reshape(rec,(nt,nxline*niline)).transpose()\n",
    "recdisp = np.reshape(recdisp,(nxline,niline,nt))\n",
    "clim = np.array([-0.001,0.001])*0.1\n",
    "x = np.arange(50,551,2)*15\n",
    "y = np.arange(50,251,4)*15\n",
    "z = np.arange(nt)*dt\n",
    "fig, _ = show3Ddata(recdisp, [x,y,z], [126,26,nt//2], clim=clim)"
   ]
  },
  {
   "cell_type": "code",
   "execution_count": null,
   "metadata": {},
   "outputs": [],
   "source": [
    "fig.savefig(f'{outpath}/hete_rec3D_hABC.png',dpi=600)"
   ]
  },
  {
   "cell_type": "markdown",
   "metadata": {},
   "source": [
    "## Display the waveform comparison between hABCs and naABCs"
   ]
  },
  {
   "cell_type": "code",
   "execution_count": null,
   "metadata": {
    "scrolled": true
   },
   "outputs": [],
   "source": [
    "iNo = 35\n",
    "xNo = 135\n",
    "xtk = np.arange(0,2001,250)\n",
    "ytk = np.array([-6,-3,0.0,3,6.0])*1e-4\n",
    "ylim = [-0.0006,0.0006]\n",
    "xlim = [0,1000]\n",
    "# compare waveforms\n",
    "R1 = rech[:,xNo,iNo]\n",
    "R2 = recna[:,xNo,iNo]\n",
    "fig,ax = plt.subplots(1,1,figsize=(12,4))\n",
    "ax.plot(R1,'r',linewidth=1.5,label='hABCs')\n",
    "ax.plot(R2,'b--',linewidth=1.5,label='naABCs')\n",
    "\n",
    "ax.set_xticks(xtk)\n",
    "ax.set_xticklabels([f'{i}' for i in xtk],fontsize=15)\n",
    "ax.set_yticks(ytk)\n",
    "ax.set_yticklabels([f'{i*1e4:.1f}' for i in ytk],fontsize=15)\n",
    "\n",
    "ax.set_xlabel('$t$ (ms)', fontsize=20)\n",
    "ax.set_ylabel('Amplitude', fontsize=20)\n",
    "for axis in ['top','bottom','left','right']:\n",
    "    ax.spines[axis].set_linewidth(2)\n",
    "ax.legend(fontsize=20)\n",
    "if xlim is not None:\n",
    "    ax.set_xlim(xlim[0],xlim[1])\n",
    "if ylim is not None:\n",
    "    ax.set_ylim(ylim[0],ylim[1])\n",
    "\n",
    "ax.text(0,6.3e-4,'x1e-4',fontsize=15)"
   ]
  },
  {
   "cell_type": "code",
   "execution_count": null,
   "metadata": {},
   "outputs": [],
   "source": [
    "BB = ax.get_position()\n",
    "BB.x0 = 0\n",
    "BB.y0 = -0.3\n",
    "BB.x1 = 13\n",
    "BB.y1 = 4.5\n",
    "fig.savefig(f'{outpath}/hete_rec1.png',dpi=600,bbox_inches=BB)"
   ]
  },
  {
   "cell_type": "code",
   "execution_count": null,
   "metadata": {
    "scrolled": true
   },
   "outputs": [],
   "source": [
    "iNo = 5\n",
    "xNo = 5\n",
    "xtk = np.arange(1000,2001,250)\n",
    "ytk = np.array([-4,-2,0.0,2,4])*1e-5\n",
    "ylim = None#[-0.00001,0.00001]\n",
    "xlim = [1000,2000]\n",
    "# compare waveforms\n",
    "R1 = rech[:,xNo,iNo]\n",
    "R2 = recna[:,xNo,iNo]\n",
    "fig,ax = plt.subplots(1,1,figsize=(12,4))\n",
    "ax.plot(R1,'r',linewidth=1.5,label='hABCs')\n",
    "ax.plot(R2,'b--',linewidth=1.5,label='naABCs')\n",
    "\n",
    "ax.set_xticks(xtk)\n",
    "ax.set_xticklabels([f'{i}' for i in xtk],fontsize=15)\n",
    "ax.set_yticks(ytk)\n",
    "ax.set_yticklabels([f'{i*1e5}' for i in ytk],fontsize=15)\n",
    "\n",
    "ax.set_xlabel('$t$ (ms)', fontsize=20)\n",
    "ax.set_ylabel('Amplitude', fontsize=20)\n",
    "for axis in ['top','bottom','left','right']:\n",
    "    ax.spines[axis].set_linewidth(2)\n",
    "if xlim is not None:\n",
    "    ax.set_xlim(xlim[0],xlim[1])\n",
    "if ylim is not None:\n",
    "    ax.set_ylim(ylim[0],ylim[1])\n",
    "\n",
    "ax.text(1000,4.3e-5,'x1e-5',fontsize=15)"
   ]
  },
  {
   "cell_type": "code",
   "execution_count": null,
   "metadata": {},
   "outputs": [],
   "source": [
    "BB = ax.get_position()\n",
    "BB.x0 = 0\n",
    "BB.y0 = -0.3\n",
    "BB.x1 = 13\n",
    "BB.y1 = 4.5\n",
    "fig.savefig(f'{outpath}/hete_rec2.png',dpi=600,bbox_inches=BB)"
   ]
  },
  {
   "cell_type": "code",
   "execution_count": null,
   "metadata": {},
   "outputs": [],
   "source": [
    "# runtime for preparing ABCs and low-rank decomposition\n",
    "runtimepABCs = np.array([125.72,8.01])\n",
    "runtimelrdec = np.array([38.33,25.35])\n",
    "# recorded runtime without plotting snapshots\n",
    "runtimeabc = np.array([469.31,995.56]) # corresponding to naABCs for vareps=0.04, 0.01 and hABCs for N=20\n",
    "# when hABCs for N=10, runtime is 31.1s"
   ]
  }
 ],
 "metadata": {
  "kernelspec": {
   "display_name": "Python 3",
   "language": "python",
   "name": "python3"
  },
  "language_info": {
   "codemirror_mode": {
    "name": "ipython",
    "version": 3
   },
   "file_extension": ".py",
   "mimetype": "text/x-python",
   "name": "python",
   "nbconvert_exporter": "python",
   "pygments_lexer": "ipython3",
   "version": "3.7.4"
  },
  "toc": {
   "base_numbering": 1,
   "nav_menu": {},
   "number_sections": true,
   "sideBar": true,
   "skip_h1_title": false,
   "title_cell": "Table of Contents",
   "title_sidebar": "Contents",
   "toc_cell": false,
   "toc_position": {
    "height": "calc(100% - 180px)",
    "left": "10px",
    "top": "150px",
    "width": "265.883px"
   },
   "toc_section_display": true,
   "toc_window_display": true
  },
  "varInspector": {
   "cols": {
    "lenName": 16,
    "lenType": 16,
    "lenVar": 40
   },
   "kernels_config": {
    "python": {
     "delete_cmd_postfix": "",
     "delete_cmd_prefix": "del ",
     "library": "var_list.py",
     "varRefreshCmd": "print(var_dic_list())"
    },
    "r": {
     "delete_cmd_postfix": ") ",
     "delete_cmd_prefix": "rm(",
     "library": "var_list.r",
     "varRefreshCmd": "cat(var_dic_list()) "
    }
   },
   "types_to_exclude": [
    "module",
    "function",
    "builtin_function_or_method",
    "instance",
    "_Feature"
   ],
   "window_display": false
  }
 },
 "nbformat": 4,
 "nbformat_minor": 2
}
