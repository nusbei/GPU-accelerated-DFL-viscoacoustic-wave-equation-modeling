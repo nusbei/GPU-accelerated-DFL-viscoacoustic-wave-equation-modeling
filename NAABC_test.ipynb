{
 "cells": [
  {
   "cell_type": "code",
   "execution_count": null,
   "metadata": {},
   "outputs": [],
   "source": [
    "%load_ext autoreload\n",
    "%autoreload 2\n",
    "import numpy as np\n",
    "from gvopt import *\n",
    "from math import pi\n",
    "import matplotlib.pyplot as plt\n",
    "import matplotlib.colors as mc"
   ]
  },
  {
   "cell_type": "markdown",
   "metadata": {},
   "source": [
    "# Analytical tests for natural-attenuation ABCs"
   ]
  },
  {
   "cell_type": "markdown",
   "metadata": {},
   "source": [
    "## Define test parameters"
   ]
  },
  {
   "cell_type": "code",
   "execution_count": null,
   "metadata": {},
   "outputs": [],
   "source": [
    "# define frequency samples being considered\n",
    "f0 = 5.0\n",
    "f1 = 50.0\n",
    "nf = 10\n",
    "fs = np.linspace(f0,f1,nf)\n",
    "w = fs*2*pi"
   ]
  },
  {
   "cell_type": "code",
   "execution_count": null,
   "metadata": {},
   "outputs": [],
   "source": [
    "# define modeling parameters\n",
    "d = 20 # grid cell size\n",
    "dt = 2e-3 # time interval\n",
    "w0 = 20*2*pi # reference angular frequency"
   ]
  },
  {
   "cell_type": "code",
   "execution_count": null,
   "metadata": {},
   "outputs": [],
   "source": [
    "# define boundary parameter\n",
    "vb = 2000 # boundary velocity\n",
    "gb = np.arctan(1/100)/pi # boundary gamma (corresponding to Q=100)"
   ]
  },
  {
   "cell_type": "code",
   "execution_count": null,
   "metadata": {},
   "outputs": [],
   "source": [
    "# overall tolerance\n",
    "eps1 = 0.04\n",
    "eps2 = 0.01"
   ]
  },
  {
   "cell_type": "markdown",
   "metadata": {},
   "source": [
    "## Define NAABC classes"
   ]
  },
  {
   "cell_type": "code",
   "execution_count": null,
   "metadata": {},
   "outputs": [],
   "source": [
    "test1 = vgopt_model(2, d, dt, w0, w, eps1) # NAABC global class\n",
    "test2 = vgopt_model(2, d, dt, w0, w, eps2) \n",
    "testgb1 = vgopt(vb,gb,mp=test1) # NAABC boundary pair class\n",
    "testgb2 = vgopt(vb,gb,mp=test2) "
   ]
  },
  {
   "cell_type": "code",
   "execution_count": null,
   "metadata": {},
   "outputs": [],
   "source": [
    "# display the stability factors in test1\n",
    "sg = test1.s.sf\n",
    "g = test1.s.gs\n",
    "\n",
    "fig, ax = plt.subplots(1,1,figsize=(6,4))\n",
    "ax.plot(g,sg,linewidth=2,color='r')\n",
    "ax.set_xlabel('$\\gamma$', fontsize=20)\n",
    "ax.set_ylabel('Stability factor', fontsize=20)\n",
    "\n",
    "xtick = np.linspace(0,0.5,6)\n",
    "ytick = np.linspace(0.2,0.6,5)\n",
    "ax.set_xticks(xtick)\n",
    "ax.set_xticklabels([f'{i:.1f}' for i in xtick],fontsize=15)\n",
    "ax.set_yticks(ytick)\n",
    "ax.set_yticklabels([f'{i:.1f}' for i in ytick],fontsize=15)\n",
    "\n",
    "for axis in ['top','bottom','left','right']:\n",
    "    ax.spines[axis].set_linewidth(2)"
   ]
  },
  {
   "cell_type": "code",
   "execution_count": null,
   "metadata": {},
   "outputs": [],
   "source": [
    "BB = ax.get_position()"
   ]
  },
  {
   "cell_type": "code",
   "execution_count": null,
   "metadata": {},
   "outputs": [],
   "source": [
    "BB = ax.get_position()\n",
    "BB.x0 -= 0.3 \n",
    "BB.y0 -= 0.3\n",
    "BB.x1 = 6.5\n",
    "BB.y1 = 4.5"
   ]
  },
  {
   "cell_type": "code",
   "execution_count": null,
   "metadata": {},
   "outputs": [],
   "source": [
    "fig.savefig('./outputs/AGUpaper/sg.png',dpi=600,bbox_inches=BB)"
   ]
  },
  {
   "cell_type": "markdown",
   "metadata": {},
   "source": [
    "## Perform optimization"
   ]
  },
  {
   "cell_type": "code",
   "execution_count": null,
   "metadata": {},
   "outputs": [],
   "source": [
    "N1,va1,ga1,epsi1 = testgb1.Ncal()\n",
    "N2,va2,ga2,epsi2 = testgb2.Ncal()"
   ]
  },
  {
   "cell_type": "markdown",
   "metadata": {},
   "source": [
    "## Display results: test 1"
   ]
  },
  {
   "cell_type": "code",
   "execution_count": null,
   "metadata": {
    "scrolled": false
   },
   "outputs": [],
   "source": [
    "N = N1\n",
    "va = va1\n",
    "ga = ga1\n",
    "epsi = epsi1\n",
    "ytk = np.arange(1800,2401,200)\n",
    "\n",
    "# display optimized va and ga\n",
    "x = np.arange(1,N+1)\n",
    "\n",
    "fig, ax1 = plt.subplots(1,1,figsize=(8.2,3.55))\n",
    "\n",
    "color = 'tab:red'\n",
    "ax1.set_xlabel('Absorbing layer No.', fontsize=20)\n",
    "ax1.set_ylabel('$v_a$ (m/s)', color=color, fontsize=20)\n",
    "ax1.plot(x, va, color=color, linewidth=2)\n",
    "ax1.tick_params(axis='y', labelcolor=color)\n",
    "\n",
    "xtick = np.array(np.linspace(1,N,5),dtype=np.int16)\n",
    "ytick = ytk\n",
    "ax1.set_xticks(xtick)\n",
    "ax1.set_xticklabels([f'{i}' for i in xtick],fontsize=15)\n",
    "ax1.set_yticks(ytick)\n",
    "ax1.set_yticklabels([f'{i}' for i in ytick],fontsize=15)\n",
    "\n",
    "ax2 = ax1.twinx()  # instantiate a second axes that shares the same x-axis\n",
    "\n",
    "color = 'tab:blue'\n",
    "ax2.set_ylabel('$\\gamma_a$', color=color, fontsize=20)  # we already handled the x-label with ax1\n",
    "ax2.plot(x, ga, color=color, linewidth=2)\n",
    "ax2.tick_params(axis='y', labelcolor=color)\n",
    "\n",
    "ytick = np.arange(0,0.51,0.1)\n",
    "ax2.set_yticks(ytick)\n",
    "ax2.set_yticklabels([f'{i:.1f}' for i in ytick],fontsize=15)\n",
    "\n",
    "fig.tight_layout()  # otherwise the right y-label is slightly clipped\n",
    "\n",
    "for axis in ['top','bottom','left','right']:\n",
    "    ax1.spines[axis].set_linewidth(2)\n",
    "    \n",
    "plt.show()"
   ]
  },
  {
   "cell_type": "code",
   "execution_count": null,
   "metadata": {},
   "outputs": [],
   "source": [
    "fig.savefig('./outputs/AGUpaper/vga_eps=0.04.png',dpi=300)"
   ]
  },
  {
   "cell_type": "code",
   "execution_count": null,
   "metadata": {},
   "outputs": [],
   "source": [
    "wi = np.linspace(w[0],w[-1],101)\n",
    "# calculate the dispersive velocity\n",
    "vd = np.zeros((N,len(wi)))\n",
    "for i in range(N):\n",
    "    vd[i,:] = va[i]*np.cos(0.5*pi*ga[i])*(wi/w0)**ga[i]"
   ]
  },
  {
   "cell_type": "code",
   "execution_count": null,
   "metadata": {},
   "outputs": [],
   "source": [
    "def nl(i,N,cmax=0.6):\n",
    "    return np.sqrt(i/(N-1)*cmax)\n",
    "xtk = np.linspace(5,50,6)\n",
    "ytk = np.arange(800,2801,400)\n",
    "# display the dispersive velocity\n",
    "fig, ax = plt.subplots(1,1,figsize=(8,6))\n",
    "for i in range(N):\n",
    "    c = nl(i,N)\n",
    "    if i == 0:\n",
    "        ax.plot(wi/(2*pi),vd[i,:],color=(c,c,c),label='layer 1')\n",
    "        continue\n",
    "    if i == N-1:\n",
    "        ax.plot(wi/(2*pi),vd[i,:],color=(c,c,c),label=f'layer {i+1}')\n",
    "        continue\n",
    "    if (i % 3 == 0) and (i!=15):\n",
    "        ax.plot(wi/(2*pi),vd[i,:],color=(c,c,c),label=f'layer {i+1}')\n",
    "    ax.plot(wi/(2*pi),vd[i,:],color=(c,c,c))\n",
    "for axis in ['top','bottom','left','right']:\n",
    "    ax.spines[axis].set_linewidth(2)\n",
    "ax.legend(fontsize=15)\n",
    "ax.set_xticks(xtk)\n",
    "ax.set_xticklabels([f'{int(i)}' for i in xtk],fontsize=15)\n",
    "ax.set_yticks(ytk)\n",
    "ax.set_yticklabels([f'{i}' for i in ytk],fontsize=15)\n",
    "ax.set_xlabel('Frequency (Hz)',fontsize=20)\n",
    "_ = ax.set_ylabel('Velocity (m/s)',fontsize=20)"
   ]
  },
  {
   "cell_type": "code",
   "execution_count": null,
   "metadata": {},
   "outputs": [],
   "source": [
    "fig.savefig('./outputs/AGUpaper/vdf_eps=0.04.png',dpi=600)"
   ]
  },
  {
   "cell_type": "code",
   "execution_count": null,
   "metadata": {
    "scrolled": true
   },
   "outputs": [],
   "source": [
    "# display returning residuals\n",
    "y = testgb1.ABCtest(va, ga, disp=False)\n",
    "nw = len(w)\n",
    "Vmin = np.amin(y)\n",
    "Vmax = np.amax(y)\n",
    "cN = pcl.Normalize(vmin=Vmin, vmax=Vmax)\n",
    "fig, ax = plt.subplots(1,1,figsize=(10,3.55))\n",
    "ax.imshow(y,cmap='gray',origin='lower',\\\n",
    "          extent=[1,N,f0,f1],aspect=3/7*(N-1)*2*np.pi/(w[-1]-w[0]))\n",
    "ax.set_xlabel('Absorbing layer No.',fontsize=20)\n",
    "ax.set_ylabel('Frequency (Hz)',fontsize=20)\n",
    "ax.set_xlim(1,N)\n",
    "ax.set_ylim(5,50)\n",
    "xtick = np.array(np.linspace(1,N,5),dtype=np.int16)\n",
    "ytick = np.linspace(f0,f1,6)\n",
    "ax.set_xticks(xtick)\n",
    "ax.set_xticklabels([f'{i}' for i in xtick],fontsize=15)\n",
    "ax.set_yticks(ytick)\n",
    "ax.set_yticklabels([f'{i:.1f}' for i in ytick],fontsize=15)\n",
    "\n",
    "cb = fig.colorbar(cm.ScalarMappable(norm=cN, cmap='gray'))\n",
    "ctick = np.linspace(Vmin,Vmax,5)\n",
    "cb.set_ticks(ctick)\n",
    "cb.set_ticklabels([f'{i*1e2:.2f}' for i in ctick])\n",
    "cb.ax.tick_params(labelsize=15)\n",
    "pos = list(cb.ax.get_position().bounds)\n",
    "pos[0] += 0.05\n",
    "cb.ax.set_position(pos)\n",
    "cb.set_label('$A_i(\\omega)$',fontsize=15)\n",
    "\n",
    "ax2 = ax.twinx()\n",
    "color = 'tab:red'\n",
    "ax2.set_ylabel('$\\epsilon_i$', color=color, fontsize=20)\n",
    "ax2.plot(x, epsi[1:], color=color, linewidth=2)\n",
    "ax2.tick_params(axis='y', labelcolor=color)\n",
    "ax2.set_ylim(0,0.04)\n",
    "ytick = np.linspace(0,0.04,5)\n",
    "ax2.set_yticks(ytick)\n",
    "ax2.set_yticklabels([f'{i*100:.1f}' for i in ytick],fontsize=15)\n",
    "\n",
    "ax2.text(16.6, 0.042, 'x1e-2',fontsize=15,color=color)\n",
    "ax2.text(19.6, 0.042, 'x1e-2',fontsize=15)\n",
    "\n",
    "for axis in ['top','bottom','left','right']:\n",
    "    ax.spines[axis].set_linewidth(2)\n",
    "#fig.tight_layout()  # otherwise the right y-label is slightly clipped\n",
    "plt.show()"
   ]
  },
  {
   "cell_type": "code",
   "execution_count": null,
   "metadata": {},
   "outputs": [],
   "source": [
    "BB = ax.get_position()\n",
    "BB.x0 = 0\n",
    "BB.y0 = -0.3\n",
    "BB.x1 = 10\n",
    "BB.y1 = 3.55\n",
    "fig.savefig('./outputs/AGUpaper/Aepsi_eps=0.04.png',dpi=600,bbox_inches=BB)"
   ]
  },
  {
   "cell_type": "markdown",
   "metadata": {},
   "source": [
    "## Display results: test 2"
   ]
  },
  {
   "cell_type": "code",
   "execution_count": null,
   "metadata": {
    "scrolled": false
   },
   "outputs": [],
   "source": [
    "N = N2\n",
    "va = va2\n",
    "ga = ga2\n",
    "epsi = epsi2\n",
    "ytk = np.arange(1800,2401,200)\n",
    "# display optimized va and ga\n",
    "x = np.arange(1,N+1)\n",
    "\n",
    "fig, ax1 = plt.subplots(1,1,figsize=(8.2,3.55))\n",
    "\n",
    "color = 'tab:red'\n",
    "ax1.set_xlabel('Absorbing layer No.', fontsize=20)\n",
    "ax1.set_ylabel('$v_a$ (m/s)', color=color, fontsize=20)\n",
    "ax1.plot(x, va, color=color, linewidth=2)\n",
    "ax1.tick_params(axis='y', labelcolor=color)\n",
    "\n",
    "xtick = np.array(np.linspace(1,N,5),dtype=np.int16)\n",
    "ytick = ytk\n",
    "ax1.set_xticks(xtick)\n",
    "ax1.set_xticklabels([f'{i}' for i in xtick],fontsize=15)\n",
    "ax1.set_yticks(ytick)\n",
    "ax1.set_yticklabels([f'{i}' for i in ytick],fontsize=15)\n",
    "\n",
    "ax2 = ax1.twinx()  # instantiate a second axes that shares the same x-axis\n",
    "\n",
    "color = 'tab:blue'\n",
    "ax2.set_ylabel('$\\gamma_a$', color=color, fontsize=20)  # we already handled the x-label with ax1\n",
    "ax2.plot(x, ga, color=color, linewidth=2)\n",
    "ax2.tick_params(axis='y', labelcolor=color)\n",
    "\n",
    "ytick = np.arange(0,0.51,0.1)\n",
    "ax2.set_yticks(ytick)\n",
    "ax2.set_yticklabels([f'{i:.1f}' for i in ytick],fontsize=15)\n",
    "\n",
    "fig.tight_layout()  # otherwise the right y-label is slightly clipped\n",
    "\n",
    "for axis in ['top','bottom','left','right']:\n",
    "    ax1.spines[axis].set_linewidth(2)\n",
    "    \n",
    "plt.show()"
   ]
  },
  {
   "cell_type": "code",
   "execution_count": null,
   "metadata": {},
   "outputs": [],
   "source": [
    "fig.savefig('./outputs/AGUpaper/vga_eps=0.01.png',dpi=300)"
   ]
  },
  {
   "cell_type": "code",
   "execution_count": null,
   "metadata": {},
   "outputs": [],
   "source": [
    "wi = np.linspace(w[0],w[-1],101)\n",
    "# calculate the dispersive velocity\n",
    "vd = np.zeros((N,len(wi)))\n",
    "for i in range(N):\n",
    "    vd[i,:] = va[i]*np.cos(0.5*pi*ga[i])*(wi/w0)**ga[i]"
   ]
  },
  {
   "cell_type": "code",
   "execution_count": null,
   "metadata": {},
   "outputs": [],
   "source": [
    "def nl(i,N,cmax=0.6):\n",
    "    return np.sqrt(i/(N-1)*cmax)\n",
    "xtk = np.linspace(5,50,6)\n",
    "ytk = np.arange(800,2801,400)\n",
    "# display the dispersive velocity\n",
    "fig, ax = plt.subplots(1,1,figsize=(8,6))\n",
    "for i in range(N):\n",
    "    c = nl(i,N)\n",
    "    if i == 0:\n",
    "        ax.plot(wi/(2*pi),vd[i,:],color=(c,c,c),label='layer 1')\n",
    "        continue\n",
    "    if i == N-1:\n",
    "        ax.plot(wi/(2*pi),vd[i,:],color=(c,c,c),label=f'layer {i+1}')\n",
    "        continue\n",
    "    if (i % 6 == 0) and (i!=30):\n",
    "        ax.plot(wi/(2*pi),vd[i,:],color=(c,c,c),label=f'layer {i+1}')\n",
    "    ax.plot(wi/(2*pi),vd[i,:],color=(c,c,c))\n",
    "for axis in ['top','bottom','left','right']:\n",
    "    ax.spines[axis].set_linewidth(2)\n",
    "ax.legend(fontsize=15)\n",
    "ax.set_xticks(xtk)\n",
    "ax.set_xticklabels([f'{int(i)}' for i in xtk],fontsize=15)\n",
    "ax.set_yticks(ytk)\n",
    "ax.set_yticklabels([f'{i}' for i in ytk],fontsize=15)\n",
    "ax.set_xlabel('Frequency (Hz)',fontsize=20)\n",
    "_ = ax.set_ylabel('Velocity (m/s)',fontsize=20)\n"
   ]
  },
  {
   "cell_type": "code",
   "execution_count": null,
   "metadata": {},
   "outputs": [],
   "source": [
    "fig.savefig('./outputs/AGUpaper/vdf_eps=0.01.png',dpi=600)"
   ]
  },
  {
   "cell_type": "code",
   "execution_count": null,
   "metadata": {
    "scrolled": true
   },
   "outputs": [],
   "source": [
    "# display returning residuals\n",
    "y = testgb2.ABCtest(va, ga, disp=False)\n",
    "nw = len(w)\n",
    "Vmin = np.amin(y)\n",
    "Vmax = np.amax(y)\n",
    "cN = pcl.Normalize(vmin=Vmin, vmax=Vmax)\n",
    "fig, ax = plt.subplots(1,1,figsize=(10,3.55))\n",
    "ax.imshow(y,cmap='gray',origin='lower',\\\n",
    "          extent=[1,N,f0,f1],aspect=3/7*(N-1)*2*np.pi/(w[-1]-w[0]))\n",
    "ax.set_xlabel('Absorbing layer No.',fontsize=20)\n",
    "ax.set_ylabel('Frequency (Hz)',fontsize=20)\n",
    "ax.set_xlim(1,N)\n",
    "ax.set_ylim(5,50)\n",
    "xtick = np.array(np.linspace(1,N,5),dtype=np.int16)\n",
    "ytick = np.linspace(f0,f1,6)\n",
    "ax.set_xticks(xtick)\n",
    "ax.set_xticklabels([f'{i}' for i in xtick],fontsize=15)\n",
    "ax.set_yticks(ytick)\n",
    "ax.set_yticklabels([f'{i:.1f}' for i in ytick],fontsize=15)\n",
    "\n",
    "cb = fig.colorbar(cm.ScalarMappable(norm=cN, cmap='gray'))\n",
    "ctick = np.linspace(Vmin,Vmax,5)\n",
    "cb.set_ticks(ctick)\n",
    "cb.set_ticklabels([f'{i*1e2:.2f}' for i in ctick])\n",
    "cb.ax.tick_params(labelsize=15)\n",
    "pos = list(cb.ax.get_position().bounds)\n",
    "pos[0] += 0.05\n",
    "cb.ax.set_position(pos)\n",
    "cb.set_label('$A_i(\\omega)$',fontsize=15)\n",
    "\n",
    "ax2 = ax.twinx()\n",
    "color = 'tab:red'\n",
    "ax2.set_ylabel('$\\epsilon_i$', color=color, fontsize=20)\n",
    "ax2.plot(x, epsi[1:], color=color, linewidth=2)\n",
    "ax2.tick_params(axis='y', labelcolor=color)\n",
    "ax2.set_ylim(0,0.01)\n",
    "ytick = np.linspace(0,0.01,5)\n",
    "ax2.set_yticks(ytick)\n",
    "ax2.set_yticklabels([f'{i*1e2:.2f}' for i in ytick],fontsize=15)\n",
    "\n",
    "ax2.text(32.3, 0.0105, 'x1e-2',fontsize=15,color=color)\n",
    "ax2.text(38.3, 0.0105, 'x1e-2',fontsize=15)\n",
    "\n",
    "for axis in ['top','bottom','left','right']:\n",
    "    ax.spines[axis].set_linewidth(2)\n",
    "#fig.tight_layout()  # otherwise the right y-label is slightly clipped\n",
    "plt.show()"
   ]
  },
  {
   "cell_type": "code",
   "execution_count": null,
   "metadata": {},
   "outputs": [],
   "source": [
    "BB = ax.get_position()"
   ]
  },
  {
   "cell_type": "code",
   "execution_count": null,
   "metadata": {},
   "outputs": [],
   "source": [
    "BB.x0 = 0\n",
    "BB.y0 = -0.3\n",
    "BB.x1 = 10\n",
    "BB.y1 = 3.55"
   ]
  },
  {
   "cell_type": "code",
   "execution_count": null,
   "metadata": {},
   "outputs": [],
   "source": [
    "fig.savefig('./outputs/AGUpaper/Aepsi_eps=0.01.png',dpi=600,bbox_inches=BB)"
   ]
  }
 ],
 "metadata": {
  "kernelspec": {
   "display_name": "Python 3",
   "language": "python",
   "name": "python3"
  },
  "language_info": {
   "codemirror_mode": {
    "name": "ipython",
    "version": 3
   },
   "file_extension": ".py",
   "mimetype": "text/x-python",
   "name": "python",
   "nbconvert_exporter": "python",
   "pygments_lexer": "ipython3",
   "version": "3.7.4"
  },
  "toc": {
   "base_numbering": 1,
   "nav_menu": {},
   "number_sections": true,
   "sideBar": true,
   "skip_h1_title": false,
   "title_cell": "Table of Contents",
   "title_sidebar": "Contents",
   "toc_cell": false,
   "toc_position": {
    "height": "calc(100% - 180px)",
    "left": "10px",
    "top": "150px",
    "width": "265.883px"
   },
   "toc_section_display": true,
   "toc_window_display": true
  },
  "varInspector": {
   "cols": {
    "lenName": 16,
    "lenType": 16,
    "lenVar": 40
   },
   "kernels_config": {
    "python": {
     "delete_cmd_postfix": "",
     "delete_cmd_prefix": "del ",
     "library": "var_list.py",
     "varRefreshCmd": "print(var_dic_list())"
    },
    "r": {
     "delete_cmd_postfix": ") ",
     "delete_cmd_prefix": "rm(",
     "library": "var_list.r",
     "varRefreshCmd": "cat(var_dic_list()) "
    }
   },
   "types_to_exclude": [
    "module",
    "function",
    "builtin_function_or_method",
    "instance",
    "_Feature"
   ],
   "window_display": false
  }
 },
 "nbformat": 4,
 "nbformat_minor": 2
}
